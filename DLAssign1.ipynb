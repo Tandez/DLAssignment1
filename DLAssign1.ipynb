{
 "cells": [
  {
   "cell_type": "markdown",
   "metadata": {},
   "source": [
    "# Deep Learning Assignment 1"
   ]
  },
  {
   "cell_type": "code",
   "execution_count": 1,
   "metadata": {},
   "outputs": [],
   "source": [
    "# importing necessary packages\n",
    "import tensorflow"
   ]
  },
  {
   "cell_type": "code",
   "execution_count": 2,
   "metadata": {},
   "outputs": [
    {
     "name": "stderr",
     "output_type": "stream",
     "text": [
      "/Applications/anaconda3/lib/python3.6/site-packages/h5py/__init__.py:36: FutureWarning: Conversion of the second argument of issubdtype from `float` to `np.floating` is deprecated. In future, it will be treated as `np.float64 == np.dtype(float).type`.\n",
      "  from ._conv import register_converters as _register_converters\n",
      "Using TensorFlow backend.\n"
     ]
    }
   ],
   "source": [
    "import keras"
   ]
  },
  {
   "cell_type": "code",
   "execution_count": 67,
   "metadata": {},
   "outputs": [],
   "source": [
    "import PIL\n",
    "import h5py\n",
    "from keras.utils import np_utils"
   ]
  },
  {
   "cell_type": "code",
   "execution_count": 5,
   "metadata": {},
   "outputs": [
    {
     "data": {
      "image/png": "[encoded data removed]",
      "text/plain": [
       "<Figure size 432x288 with 1 Axes>"
      ]
     },
     "metadata": {},
     "output_type": "display_data"
    }
   ],
   "source": [
    "import matplotlib.pyplot as plt\n",
    "%matplotlib inline\n",
    "import numpy as np\n",
    "\n",
    "# On some implementations of matplotlib, you may need to change this value\n",
    "IMAGE_SIZE = 72\n",
    "\n",
    "def generate_a_drawing(figsize, U, V, noise=0.0):\n",
    "    fig = plt.figure(figsize=(figsize,figsize))\n",
    "    ax = plt.subplot(111)\n",
    "    plt.axis('Off')\n",
    "    ax.set_xlim(0,figsize)\n",
    "    ax.set_ylim(0,figsize)\n",
    "    ax.fill(U, V, \"k\")\n",
    "    fig.canvas.draw()\n",
    "    imdata = np.frombuffer(fig.canvas.tostring_rgb(), dtype=np.uint8)[::3].astype(np.float32)\n",
    "    imdata = imdata + noise * np.random.random(imdata.size)\n",
    "    plt.close(fig)\n",
    "    return imdata\n",
    "\n",
    "def generate_a_rectangle(noise=0.0, free_location=False):\n",
    "    figsize = 1.0    \n",
    "    U = np.zeros(4)\n",
    "    V = np.zeros(4)\n",
    "    if free_location:\n",
    "        corners = np.random.random(4)\n",
    "        top = max(corners[0], corners[1])\n",
    "        bottom = min(corners[0], corners[1])\n",
    "        left = min(corners[2], corners[3])\n",
    "        right = max(corners[2], corners[3])\n",
    "    else:\n",
    "        side = (0.3 + 0.7 * np.random.random()) * figsize\n",
    "        top = figsize/2 + side/2\n",
    "        bottom = figsize/2 - side/2\n",
    "        left = bottom\n",
    "        right = top\n",
    "    U[0] = U[1] = top\n",
    "    U[2] = U[3] = bottom\n",
    "    V[0] = V[3] = left\n",
    "    V[1] = V[2] = right\n",
    "    return generate_a_drawing(figsize, U, V, noise)\n",
    "\n",
    "\n",
    "def generate_a_disk(noise=0.0, free_location=False):\n",
    "    figsize = 1.0\n",
    "    if free_location:\n",
    "        center = np.random.random(2)\n",
    "    else:\n",
    "        center = (figsize/2, figsize/2)\n",
    "    radius = (0.3 + 0.7 * np.random.random()) * figsize/2\n",
    "    N = 50\n",
    "    U = np.zeros(N)\n",
    "    V = np.zeros(N)\n",
    "    i = 0\n",
    "    for t in np.linspace(0, 2*np.pi, N):\n",
    "        U[i] = center[0] + np.cos(t) * radius\n",
    "        V[i] = center[1] + np.sin(t) * radius\n",
    "        i = i + 1\n",
    "    return generate_a_drawing(figsize, U, V, noise)\n",
    "\n",
    "def generate_a_triangle(noise=0.0, free_location=False):\n",
    "    figsize = 1.0\n",
    "    if free_location:\n",
    "        U = np.random.random(3)\n",
    "        V = np.random.random(3)\n",
    "    else:\n",
    "        size = (0.3 + 0.7 * np.random.random())*figsize/2\n",
    "        middle = figsize/2\n",
    "        U = (middle, middle+size, middle-size)\n",
    "        V = (middle+size, middle-size, middle-size)\n",
    "    imdata = generate_a_drawing(figsize, U, V, noise)\n",
    "    return [imdata, [U[0], V[0], U[1], V[1], U[2], V[2]]]\n",
    "\n",
    "\n",
    "im = generate_a_rectangle(10, True)\n",
    "plt.imshow(im.reshape(IMAGE_SIZE,IMAGE_SIZE), cmap='gray')\n",
    "\n",
    "im = generate_a_disk(10)\n",
    "plt.imshow(im.reshape(IMAGE_SIZE,IMAGE_SIZE), cmap='gray')\n",
    "\n",
    "[im, v] = generate_a_triangle(20, False)\n",
    "plt.imshow(im.reshape(IMAGE_SIZE,IMAGE_SIZE), cmap='gray')\n",
    "\n",
    "\n",
    "def generate_dataset_classification(nb_samples, noise=0.0, free_location=False):\n",
    "    # Getting im_size:\n",
    "    im_size = generate_a_rectangle().shape[0]\n",
    "    X = np.zeros([nb_samples,im_size])\n",
    "    Y = np.zeros(nb_samples)\n",
    "    print('Creating data:')\n",
    "    for i in range(nb_samples):\n",
    "        if i % 10 == 0:\n",
    "            print(i)\n",
    "        category = np.random.randint(3)\n",
    "        if category == 0:\n",
    "            X[i] = generate_a_rectangle(noise, free_location)\n",
    "        elif category == 1: \n",
    "            X[i] = generate_a_disk(noise, free_location)\n",
    "        else:\n",
    "            [X[i], V] = generate_a_triangle(noise, free_location)\n",
    "        Y[i] = category\n",
    "    X = (X + noise) / (255 + 2 * noise)\n",
    "    return [X, Y]\n",
    "\n",
    "def generate_test_set_classification():\n",
    "    np.random.seed(42)\n",
    "    [X_test, Y_test] = generate_dataset_classification(300, 20, True)\n",
    "    Y_test = np_utils.to_categorical(Y_test, 3) \n",
    "    return [X_test, Y_test]\n",
    "\n",
    "def generate_dataset_regression(nb_samples, noise=0.0):\n",
    "    # Getting im_size:\n",
    "    im_size = generate_a_triangle()[0].shape[0]\n",
    "    X = np.zeros([nb_samples,im_size])\n",
    "    Y = np.zeros([nb_samples, 6])\n",
    "    print('Creating data:')\n",
    "    for i in range(nb_samples):\n",
    "        if i % 10 == 0:\n",
    "            print(i)\n",
    "        [X[i], Y[i]] = generate_a_triangle(noise, True)\n",
    "    X = (X + noise) / (255 + 2 * noise)\n",
    "    return [X, Y]\n",
    "\n",
    "import matplotlib.patches as patches\n",
    "\n",
    "def visualize_prediction(x, y):\n",
    "    fig, ax = plt.subplots(figsize=(5, 5))\n",
    "    I = x.reshape((IMAGE_SIZE,IMAGE_SIZE))\n",
    "    ax.imshow(I, extent=[-0.15,1.15,-0.15,1.15],cmap='gray')\n",
    "    ax.set_xlim([0,1])\n",
    "    ax.set_ylim([0,1])\n",
    "\n",
    "    xy = y.reshape(3,2)\n",
    "    tri = patches.Polygon(xy, closed=True, fill = False, edgecolor = 'r', linewidth = 5, alpha = 0.5)\n",
    "    ax.add_patch(tri)\n",
    "\n",
    "    plt.show()\n",
    "\n",
    "def generate_test_set_regression():\n",
    "    np.random.seed(42)\n",
    "    [X_test, Y_test] = generate_dataset_regression(300, 20)\n",
    "    return [X_test, Y_test]"
   ]
  },
  {
   "cell_type": "markdown",
   "metadata": {},
   "source": [
    "# 3 Simple Classification"
   ]
  },
  {
   "cell_type": "code",
   "execution_count": 183,
   "metadata": {},
   "outputs": [
    {
     "name": "stdout",
     "output_type": "stream",
     "text": [
      "Creating data:\n",
      "0\n",
      "10\n",
      "20\n",
      "30\n",
      "40\n",
      "50\n",
      "60\n",
      "70\n",
      "80\n",
      "90\n",
      "100\n",
      "110\n",
      "120\n",
      "130\n",
      "140\n",
      "150\n",
      "160\n",
      "170\n",
      "180\n",
      "190\n",
      "200\n",
      "210\n",
      "220\n",
      "230\n",
      "240\n",
      "250\n",
      "260\n",
      "270\n",
      "280\n",
      "290\n"
     ]
    }
   ],
   "source": [
    "# Generating dataset \n",
    "[X_train, Y_train] = generate_dataset_classification(300,20)\n",
    "\n",
    "#X_train values are already normalized so don't have to normalize\n",
    "\n",
    "from keras.models import Sequential\n",
    "from keras.layers import Dense\n",
    "from keras.utils import to_categorical"
   ]
  },
  {
   "cell_type": "code",
   "execution_count": 184,
   "metadata": {},
   "outputs": [
    {
     "name": "stdout",
     "output_type": "stream",
     "text": [
      "Epoch 1/10\n",
      "300/300 [==============================] - 2s - loss: 2.2303 - acc: 0.4200     \n",
      "Epoch 2/10\n",
      "300/300 [==============================] - 0s - loss: 0.9887 - acc: 0.5800     \n",
      "Epoch 3/10\n",
      "300/300 [==============================] - 0s - loss: 0.9403 - acc: 0.5800     \n",
      "Epoch 4/10\n",
      "300/300 [==============================] - 0s - loss: 0.8971 - acc: 0.6133     \n",
      "Epoch 5/10\n",
      "300/300 [==============================] - 0s - loss: 0.7791 - acc: 0.6900     \n",
      "Epoch 6/10\n",
      "300/300 [==============================] - 0s - loss: 0.6907 - acc: 0.7200     \n",
      "Epoch 7/10\n",
      "300/300 [==============================] - 0s - loss: 0.7162 - acc: 0.6833     \n",
      "Epoch 8/10\n",
      "300/300 [==============================] - 0s - loss: 0.8277 - acc: 0.6467     \n",
      "Epoch 9/10\n",
      "300/300 [==============================] - 0s - loss: 0.5718 - acc: 0.7800     \n",
      "Epoch 10/10\n",
      "300/300 [==============================] - 0s - loss: 0.5169 - acc: 0.8000     \n"
     ]
    },
    {
     "data": {
      "text/plain": [
       "<keras.callbacks.History at 0xd4d17d470>"
      ]
     },
     "execution_count": 184,
     "metadata": {},
     "output_type": "execute_result"
    }
   ],
   "source": [
    "#changing the target variable to categorical\n",
    "\n",
    "target = to_categorical(Y_train)\n",
    "n_cols = X_train.shape[1]\n",
    "\n",
    "#creating the stochastic gradient descent model\n",
    "\n",
    "sgd_model = Sequential()\n",
    "sgd_model.add(Dense(100, activation = 'relu', input_shape = (n_cols,)))\n",
    "sgd_model.add(Dense(3, activation = 'softmax'))\n",
    "sgd_model.compile(optimizer='sgd', loss='categorical_crossentropy', metrics=['accuracy'])\n",
    "sgd_model.fit(X_train,target)"
   ]
  },
  {
   "cell_type": "code",
   "execution_count": 8,
   "metadata": {},
   "outputs": [
    {
     "name": "stdout",
     "output_type": "stream",
     "text": [
      "[[255. 255. 255. ... 255. 255. 255.]]\n"
     ]
    },
    {
     "data": {
      "text/plain": [
       "array([[0., 1., 0.]], dtype=float32)"
      ]
     },
     "execution_count": 8,
     "metadata": {},
     "output_type": "execute_result"
    }
   ],
   "source": [
    "#Testing\n",
    "X_test = generate_a_disk()\n",
    "X_test = X_test.reshape(1, X_test.shape[0])\n",
    "print(X_test)\n",
    "sgd_model.predict(X_test)"
   ]
  },
  {
   "cell_type": "code",
   "execution_count": 157,
   "metadata": {},
   "outputs": [
    {
     "name": "stdout",
     "output_type": "stream",
     "text": [
      "Train on 210 samples, validate on 90 samples\n",
      "Epoch 1/50\n",
      "210/210 [==============================] - 1s - loss: 1.6574 - acc: 0.3905 - val_loss: 0.7910 - val_acc: 0.5889\n",
      "Epoch 2/50\n",
      "210/210 [==============================] - 0s - loss: 0.8152 - acc: 0.5381 - val_loss: 0.6411 - val_acc: 0.7556\n",
      "Epoch 3/50\n",
      "210/210 [==============================] - 0s - loss: 0.6555 - acc: 0.6857 - val_loss: 0.5532 - val_acc: 0.7222\n",
      "Epoch 4/50\n",
      "210/210 [==============================] - 0s - loss: 0.5765 - acc: 0.6905 - val_loss: 0.4942 - val_acc: 0.7556\n",
      "Epoch 5/50\n",
      "210/210 [==============================] - 0s - loss: 0.5015 - acc: 0.8190 - val_loss: 0.4176 - val_acc: 0.7222\n",
      "Epoch 6/50\n",
      "210/210 [==============================] - 0s - loss: 0.4644 - acc: 0.7762 - val_loss: 0.3997 - val_acc: 0.8778\n",
      "Epoch 7/50\n",
      "210/210 [==============================] - 0s - loss: 0.4257 - acc: 0.9143 - val_loss: 0.3738 - val_acc: 0.8444\n",
      "Epoch 8/50\n",
      "210/210 [==============================] - ETA: 0s - loss: 0.4066 - acc: 0.875 - 0s - loss: 0.4057 - acc: 0.8714 - val_loss: 0.3578 - val_acc: 0.8556\n",
      "Epoch 9/50\n",
      "210/210 [==============================] - 0s - loss: 0.3868 - acc: 0.8619 - val_loss: 0.3916 - val_acc: 0.7556\n",
      "Epoch 10/50\n",
      "210/210 [==============================] - 0s - loss: 0.3678 - acc: 0.8810 - val_loss: 0.3363 - val_acc: 0.8222\n",
      "Epoch 11/50\n",
      "210/210 [==============================] - 0s - loss: 0.3475 - acc: 0.8524 - val_loss: 0.4255 - val_acc: 0.7444\n",
      "Epoch 12/50\n",
      "210/210 [==============================] - 0s - loss: 0.3721 - acc: 0.8190 - val_loss: 0.2795 - val_acc: 0.9667\n",
      "Epoch 13/50\n",
      "210/210 [==============================] - 0s - loss: 0.3086 - acc: 0.9095 - val_loss: 0.2666 - val_acc: 0.9222\n",
      "Epoch 14/50\n",
      "210/210 [==============================] - 0s - loss: 0.2895 - acc: 0.9571 - val_loss: 0.2513 - val_acc: 0.9778\n",
      "Epoch 15/50\n",
      "210/210 [==============================] - 0s - loss: 0.2604 - acc: 0.9762 - val_loss: 0.2410 - val_acc: 0.9667\n",
      "Epoch 16/50\n",
      "210/210 [==============================] - 0s - loss: 0.2472 - acc: 0.9857 - val_loss: 0.2210 - val_acc: 0.9889\n",
      "Epoch 17/50\n",
      "210/210 [==============================] - 0s - loss: 0.2311 - acc: 0.9857 - val_loss: 0.2229 - val_acc: 0.9444\n",
      "Epoch 18/50\n",
      "210/210 [==============================] - 0s - loss: 0.2578 - acc: 0.9143 - val_loss: 0.1976 - val_acc: 0.9556\n",
      "Epoch 19/50\n",
      "210/210 [==============================] - 0s - loss: 0.2763 - acc: 0.8667 - val_loss: 0.3075 - val_acc: 0.8000\n",
      "Epoch 20/50\n",
      "210/210 [==============================] - 0s - loss: 0.2302 - acc: 0.9286 - val_loss: 0.1792 - val_acc: 0.9778\n",
      "Epoch 21/50\n",
      "210/210 [==============================] - 0s - loss: 0.1866 - acc: 0.9571 - val_loss: 0.2081 - val_acc: 0.9111\n",
      "Epoch 22/50\n",
      "210/210 [==============================] - ETA: 0s - loss: 0.1851 - acc: 0.947 - 0s - loss: 0.1853 - acc: 0.9429 - val_loss: 0.1762 - val_acc: 0.9444\n",
      "Epoch 23/50\n",
      "210/210 [==============================] - 0s - loss: 0.1539 - acc: 0.9952 - val_loss: 0.1608 - val_acc: 0.9667\n",
      "Epoch 24/50\n",
      "210/210 [==============================] - 0s - loss: 0.1464 - acc: 0.9952 - val_loss: 0.1364 - val_acc: 1.0000\n",
      "Epoch 25/50\n",
      "210/210 [==============================] - 0s - loss: 0.1397 - acc: 0.9905 - val_loss: 0.1304 - val_acc: 1.0000\n",
      "Epoch 26/50\n",
      "210/210 [==============================] - 0s - loss: 0.1326 - acc: 0.9905 - val_loss: 0.1200 - val_acc: 1.0000\n",
      "Epoch 27/50\n",
      "210/210 [==============================] - 0s - loss: 0.1177 - acc: 0.9952 - val_loss: 0.1193 - val_acc: 1.0000\n",
      "Epoch 28/50\n",
      "210/210 [==============================] - 0s - loss: 0.1130 - acc: 1.0000 - val_loss: 0.1095 - val_acc: 1.0000\n",
      "Epoch 29/50\n",
      "210/210 [==============================] - 0s - loss: 0.1034 - acc: 1.0000 - val_loss: 0.1097 - val_acc: 1.0000\n",
      "Epoch 30/50\n",
      "210/210 [==============================] - 0s - loss: 0.1024 - acc: 1.0000 - val_loss: 0.1031 - val_acc: 1.0000\n",
      "Epoch 31/50\n",
      "210/210 [==============================] - 0s - loss: 0.1120 - acc: 0.9905 - val_loss: 0.0915 - val_acc: 1.0000\n",
      "Epoch 32/50\n",
      "210/210 [==============================] - 0s - loss: 0.0877 - acc: 0.9952 - val_loss: 0.0822 - val_acc: 1.0000\n",
      "Epoch 33/50\n",
      "210/210 [==============================] - 0s - loss: 0.0776 - acc: 1.0000 - val_loss: 0.0788 - val_acc: 1.0000\n",
      "Epoch 34/50\n",
      "210/210 [==============================] - 0s - loss: 0.0722 - acc: 1.0000 - val_loss: 0.0884 - val_acc: 1.0000\n",
      "Epoch 35/50\n",
      "210/210 [==============================] - 0s - loss: 0.0702 - acc: 1.0000 - val_loss: 0.0706 - val_acc: 1.0000\n",
      "Epoch 36/50\n",
      "210/210 [==============================] - 0s - loss: 0.0638 - acc: 1.0000 - val_loss: 0.0756 - val_acc: 1.0000\n",
      "Epoch 37/50\n",
      "210/210 [==============================] - 0s - loss: 0.0915 - acc: 0.9905 - val_loss: 0.0655 - val_acc: 1.0000\n",
      "Epoch 38/50\n",
      "210/210 [==============================] - 0s - loss: 0.0556 - acc: 1.0000 - val_loss: 0.0707 - val_acc: 1.0000\n",
      "Epoch 39/50\n",
      "210/210 [==============================] - 0s - loss: 0.0613 - acc: 1.0000 - val_loss: 0.0562 - val_acc: 1.0000\n",
      "Epoch 40/50\n",
      "210/210 [==============================] - 0s - loss: 0.0522 - acc: 1.0000 - val_loss: 0.0567 - val_acc: 1.0000\n",
      "Epoch 41/50\n",
      "210/210 [==============================] - 0s - loss: 0.0566 - acc: 0.9952 - val_loss: 0.0560 - val_acc: 1.0000\n",
      "Epoch 42/50\n",
      "210/210 [==============================] - 0s - loss: 0.0516 - acc: 1.0000 - val_loss: 0.0596 - val_acc: 1.0000\n",
      "Epoch 43/50\n",
      "210/210 [==============================] - 0s - loss: 0.0435 - acc: 1.0000 - val_loss: 0.0457 - val_acc: 1.0000\n",
      "Epoch 44/50\n",
      "210/210 [==============================] - 0s - loss: 0.0439 - acc: 1.0000 - val_loss: 0.0483 - val_acc: 1.0000\n",
      "Epoch 45/50\n",
      "210/210 [==============================] - 0s - loss: 0.0454 - acc: 1.0000 - val_loss: 0.0469 - val_acc: 1.0000\n",
      "Epoch 46/50\n",
      "210/210 [==============================] - 0s - loss: 0.0338 - acc: 1.0000 - val_loss: 0.0391 - val_acc: 1.0000\n",
      "Epoch 47/50\n",
      "210/210 [==============================] - 0s - loss: 0.0319 - acc: 1.0000 - val_loss: 0.0381 - val_acc: 1.0000\n",
      "Epoch 48/50\n",
      "210/210 [==============================] - 0s - loss: 0.0313 - acc: 1.0000 - val_loss: 0.0370 - val_acc: 1.0000\n",
      "Epoch 49/50\n",
      "210/210 [==============================] - 0s - loss: 0.0313 - acc: 1.0000 - val_loss: 0.0402 - val_acc: 1.0000\n",
      "Epoch 50/50\n",
      "210/210 [==============================] - 0s - loss: 0.0290 - acc: 1.0000 - val_loss: 0.0340 - val_acc: 1.0000\n"
     ]
    },
    {
     "data": {
      "text/plain": [
       "<keras.callbacks.History at 0xd532366a0>"
      ]
     },
     "execution_count": 157,
     "metadata": {},
     "output_type": "execute_result"
    }
   ],
   "source": [
    "#Creating Adam optimizer model\n",
    "adams_model = Sequential()\n",
    "adams_model.add(Dense(50, activation = 'relu', input_shape = (n_cols,)))\n",
    "adams_model.add(Dense(3, activation = 'softmax'))\n",
    "adams_model.compile(optimizer='adam', loss='categorical_crossentropy', metrics=['accuracy'])\n",
    "\n",
    "es = EarlyStopping(patience = 2)\n",
    "adams_model.fit(X_train,target, epochs=50, batch_size=32, validation_split = 0.3, callbacks = [es])"
   ]
  },
  {
   "cell_type": "code",
   "execution_count": 158,
   "metadata": {},
   "outputs": [
    {
     "data": {
      "text/plain": [
       "array([[1., 0., 0.]], dtype=float32)"
      ]
     },
     "execution_count": 158,
     "metadata": {},
     "output_type": "execute_result"
    }
   ],
   "source": [
    "#Testing the adams_model\n",
    "X_test = generate_a_rectangle()\n",
    "X_test = X_test.reshape(1, X_test.shape[0])\n",
    "adams_model.predict(X_test)"
   ]
  },
  {
   "cell_type": "markdown",
   "metadata": {},
   "source": [
    "#  4. Visualization problem"
   ]
  },
  {
   "cell_type": "code",
   "execution_count": 159,
   "metadata": {},
   "outputs": [],
   "source": [
    "import matplotlib.cm as cm\n",
    "\n",
    "#Visualization of the solution with the adam optimizer\n",
    "visual = adams_model.get_weights()[0]\n",
    "array1 = visual[:,0]\n",
    "array2 = visual[:,1]\n",
    "array3 = visual[:,2]"
   ]
  },
  {
   "cell_type": "code",
   "execution_count": 160,
   "metadata": {},
   "outputs": [
    {
     "data": {
      "image/png": "[encoded data removed]",
      "text/plain": [
       "<Figure size 432x288 with 1 Axes>"
      ]
     },
     "metadata": {},
     "output_type": "display_data"
    }
   ],
   "source": [
    "plt.imshow(array1.reshape(IMAGE_SIZE,IMAGE_SIZE), cmap = cm.Greys)\n",
    "plt.show()"
   ]
  },
  {
   "cell_type": "code",
   "execution_count": 161,
   "metadata": {},
   "outputs": [
    {
     "data": {
      "image/png": "[encoded data removed]",
      "text/plain": [
       "<Figure size 432x288 with 1 Axes>"
      ]
     },
     "metadata": {},
     "output_type": "display_data"
    }
   ],
   "source": [
    "plt.imshow(array2.reshape(IMAGE_SIZE,IMAGE_SIZE), cmap = cm.Greys)\n",
    "plt.show()"
   ]
  },
  {
   "cell_type": "code",
   "execution_count": 162,
   "metadata": {},
   "outputs": [
    {
     "data": {
      "image/png": "[encoded data removed]",
      "text/plain": [
       "<Figure size 432x288 with 1 Axes>"
      ]
     },
     "metadata": {},
     "output_type": "display_data"
    }
   ],
   "source": [
    "plt.imshow(array3.reshape(IMAGE_SIZE,IMAGE_SIZE), cmap = cm.Greys)\n",
    "plt.show()"
   ]
  },
  {
   "cell_type": "markdown",
   "metadata": {},
   "source": [
    "# 5 More Classification"
   ]
  },
  {
   "cell_type": "code",
   "execution_count": 163,
   "metadata": {},
   "outputs": [
    {
     "name": "stdout",
     "output_type": "stream",
     "text": [
      "Creating data:\n",
      "0\n",
      "10\n",
      "20\n",
      "30\n",
      "40\n",
      "50\n",
      "60\n",
      "70\n",
      "80\n",
      "90\n",
      "100\n",
      "110\n",
      "120\n",
      "130\n",
      "140\n",
      "150\n",
      "160\n",
      "170\n",
      "180\n",
      "190\n",
      "200\n",
      "210\n",
      "220\n",
      "230\n",
      "240\n",
      "250\n",
      "260\n",
      "270\n",
      "280\n",
      "290\n",
      "Epoch 1/10\n",
      "300/300 [==============================] - 0s - loss: 0.8204 - acc: 0.5667     \n",
      "Epoch 2/10\n",
      "300/300 [==============================] - 0s - loss: 0.8696 - acc: 0.5400     \n",
      "Epoch 3/10\n",
      "300/300 [==============================] - 0s - loss: 0.8195 - acc: 0.5467     \n",
      "Epoch 4/10\n",
      "300/300 [==============================] - 0s - loss: 0.8131 - acc: 0.5633     \n",
      "Epoch 5/10\n",
      "300/300 [==============================] - 0s - loss: 0.7917 - acc: 0.6000     \n",
      "Epoch 6/10\n",
      "300/300 [==============================] - 0s - loss: 0.8216 - acc: 0.5533     \n",
      "Epoch 7/10\n",
      "300/300 [==============================] - 0s - loss: 0.8063 - acc: 0.5900     \n",
      "Epoch 8/10\n",
      "300/300 [==============================] - 0s - loss: 0.8003 - acc: 0.5733     \n",
      "Epoch 9/10\n",
      "300/300 [==============================] - 0s - loss: 0.7980 - acc: 0.5833     \n",
      "Epoch 10/10\n",
      "300/300 [==============================] - 0s - loss: 0.8360 - acc: 0.5267     \n",
      "Creating data:\n",
      "0\n",
      "10\n",
      "20\n",
      "30\n",
      "40\n",
      "50\n",
      "60\n",
      "70\n",
      "80\n",
      "90\n",
      "100\n",
      "110\n",
      "120\n",
      "130\n",
      "140\n",
      "150\n",
      "160\n",
      "170\n",
      "180\n",
      "190\n",
      "200\n",
      "210\n",
      "220\n",
      "230\n",
      "240\n",
      "250\n",
      "260\n",
      "270\n",
      "280\n",
      "290\n",
      " 32/300 [==>...........................] - ETA: 10s"
     ]
    },
    {
     "data": {
      "text/plain": [
       "[0.8948975626627604, 0.5266666658719381]"
      ]
     },
     "execution_count": 163,
     "metadata": {},
     "output_type": "execute_result"
    }
   ],
   "source": [
    "#Problem 5 with previous model\n",
    "\n",
    "[X_train5, Y_train5] = generate_dataset_classification(300, 20, True)\n",
    "target5 = to_categorical(Y_train5)\n",
    "sgd_model.fit(X_train5,target5)\n",
    "\n",
    "[X_test5, Y_test5] = generate_test_set_classification()\n",
    "#Y_test is already encoded with to_categorical so there's no need to convert it\n",
    "\n",
    "sgd_model.evaluate(X_test5, Y_test5)"
   ]
  },
  {
   "cell_type": "markdown",
   "metadata": {},
   "source": [
    "# Using Convolutional networks"
   ]
  },
  {
   "cell_type": "code",
   "execution_count": 77,
   "metadata": {},
   "outputs": [
    {
     "name": "stdout",
     "output_type": "stream",
     "text": [
      "(300, 72, 72, 1)\n",
      "(300, 72, 72, 1)\n"
     ]
    }
   ],
   "source": [
    "#changing dimensions of the data to use it with convolutional networks\n",
    "\n",
    "X_train_5 = X_train5.reshape(-1, IMAGE_SIZE,IMAGE_SIZE, 1)\n",
    "print(X_train_5.shape)\n",
    "\n",
    "X_test_5 = X_test5.reshape(-1, IMAGE_SIZE,IMAGE_SIZE, 1)\n",
    "print(X_test_5.shape)\n"
   ]
  },
  {
   "cell_type": "code",
   "execution_count": 109,
   "metadata": {},
   "outputs": [],
   "source": [
    "from keras.layers import Conv2D, MaxPooling2D, Flatten\n",
    "from keras.callbacks import EarlyStopping"
   ]
  },
  {
   "cell_type": "code",
   "execution_count": 118,
   "metadata": {},
   "outputs": [
    {
     "name": "stdout",
     "output_type": "stream",
     "text": [
      "Train on 210 samples, validate on 90 samples\n",
      "Epoch 1/50\n",
      "210/210 [==============================] - 2s - loss: 1.2125 - acc: 0.4000 - val_loss: 1.1816 - val_acc: 0.3556\n",
      "Epoch 2/50\n",
      "210/210 [==============================] - 1s - loss: 1.0479 - acc: 0.4381 - val_loss: 0.9785 - val_acc: 0.4444\n",
      "Epoch 3/50\n",
      "210/210 [==============================] - 1s - loss: 0.9853 - acc: 0.4619 - val_loss: 0.9646 - val_acc: 0.6556\n",
      "Epoch 4/50\n",
      "210/210 [==============================] - 1s - loss: 0.8471 - acc: 0.7667 - val_loss: 0.8507 - val_acc: 0.6889\n",
      "Epoch 5/50\n",
      "210/210 [==============================] - 1s - loss: 0.7361 - acc: 0.6857 - val_loss: 0.7899 - val_acc: 0.7222\n",
      "Epoch 6/50\n",
      "210/210 [==============================] - 1s - loss: 0.6368 - acc: 0.8095 - val_loss: 0.7456 - val_acc: 0.7333\n",
      "Epoch 7/50\n",
      "210/210 [==============================] - 1s - loss: 0.5643 - acc: 0.7857 - val_loss: 0.8064 - val_acc: 0.6444\n",
      "Epoch 8/50\n",
      "210/210 [==============================] - 1s - loss: 0.4900 - acc: 0.8286 - val_loss: 0.7481 - val_acc: 0.7111\n",
      "Epoch 9/50\n",
      "210/210 [==============================] - 1s - loss: 0.4223 - acc: 0.8619 - val_loss: 0.8639 - val_acc: 0.6444\n",
      "Epoch 10/50\n",
      "210/210 [==============================] - 1s - loss: 0.3753 - acc: 0.8762 - val_loss: 0.7311 - val_acc: 0.7333\n",
      "Epoch 11/50\n",
      "210/210 [==============================] - 1s - loss: 0.3040 - acc: 0.8952 - val_loss: 0.8102 - val_acc: 0.6667\n",
      "Epoch 12/50\n",
      "210/210 [==============================] - 1s - loss: 0.2808 - acc: 0.9000 - val_loss: 0.7329 - val_acc: 0.7222\n",
      "Epoch 13/50\n",
      "210/210 [==============================] - 1s - loss: 0.2433 - acc: 0.9286 - val_loss: 0.6979 - val_acc: 0.7222\n",
      "Epoch 14/50\n",
      "210/210 [==============================] - 1s - loss: 0.2114 - acc: 0.9429 - val_loss: 0.8444 - val_acc: 0.7333\n",
      "Epoch 15/50\n",
      "210/210 [==============================] - 1s - loss: 0.1779 - acc: 0.9619 - val_loss: 0.7230 - val_acc: 0.7444\n",
      "Epoch 16/50\n",
      "210/210 [==============================] - 1s - loss: 0.1387 - acc: 0.9762 - val_loss: 0.8343 - val_acc: 0.7222\n",
      "Epoch 17/50\n",
      "210/210 [==============================] - 1s - loss: 0.1320 - acc: 0.9714 - val_loss: 0.7649 - val_acc: 0.7333\n",
      "Epoch 18/50\n",
      "210/210 [==============================] - 1s - loss: 0.0969 - acc: 0.9905 - val_loss: 0.8274 - val_acc: 0.7444\n"
     ]
    },
    {
     "data": {
      "text/plain": [
       "<keras.callbacks.History at 0xd37803f98>"
      ]
     },
     "execution_count": 118,
     "metadata": {},
     "output_type": "execute_result"
    }
   ],
   "source": [
    "#Problem 5 : New model\n",
    "\n",
    "model5 = Sequential()\n",
    "model5.add(Conv2D(16, kernel_size=(5, 5),activation='relu',input_shape=(72,72,1)))\n",
    "model5.add(MaxPooling2D(pool_size=(2,2),padding='same'))\n",
    "model5.add(Conv2D(64, kernel_size=(3, 3), activation='relu'))\n",
    "model5.add(MaxPooling2D(pool_size=(2,2),padding='same'))\n",
    "model5.add(Flatten())                \n",
    "model5.add(Dense(3, activation='softmax'))  \n",
    "           \n",
    "model5.compile(loss='categorical_crossentropy', optimizer='Adam',metrics=['accuracy']) \n",
    "model5.summary\n",
    "early_stopping = EarlyStopping(patience = 4)\n",
    "model5.fit(X_train_5, target5, epochs=50, batch_size=32, validation_split = 0.3, callbacks = [early_stopping])          \n",
    "           "
   ]
  },
  {
   "cell_type": "code",
   "execution_count": 119,
   "metadata": {
    "scrolled": true
   },
   "outputs": [
    {
     "name": "stdout",
     "output_type": "stream",
     "text": [
      "_________________________________________________________________\n",
      "Layer (type)                 Output Shape              Param #   \n",
      "=================================================================\n",
      "conv2d_35 (Conv2D)           (None, 68, 68, 16)        416       \n",
      "_________________________________________________________________\n",
      "max_pooling2d_35 (MaxPooling (None, 34, 34, 16)        0         \n",
      "_________________________________________________________________\n",
      "conv2d_36 (Conv2D)           (None, 32, 32, 64)        9280      \n",
      "_________________________________________________________________\n",
      "max_pooling2d_36 (MaxPooling (None, 16, 16, 64)        0         \n",
      "_________________________________________________________________\n",
      "flatten_18 (Flatten)         (None, 16384)             0         \n",
      "_________________________________________________________________\n",
      "dense_72 (Dense)             (None, 3)                 49155     \n",
      "=================================================================\n",
      "Total params: 58,851\n",
      "Trainable params: 58,851\n",
      "Non-trainable params: 0\n",
      "_________________________________________________________________\n",
      "Test loss: 0.7122757887840271\n",
      "Test Accuracy: 0.79\n"
     ]
    }
   ],
   "source": [
    "#Testing model5 on test set\n",
    "model5.summary()\n",
    "score = model5.evaluate(X_test_5, Y_test5, verbose=0)\n",
    "print('Test loss:', score[0])\n",
    "print('Test Accuracy:', score[1])\n",
    "\n",
    "#Value of the loss function is 0.71"
   ]
  },
  {
   "cell_type": "markdown",
   "metadata": {},
   "source": [
    "# 6 Regression Problem"
   ]
  },
  {
   "cell_type": "code",
   "execution_count": 121,
   "metadata": {},
   "outputs": [
    {
     "name": "stdout",
     "output_type": "stream",
     "text": [
      "Creating data:\n",
      "0\n",
      "10\n",
      "20\n",
      "30\n",
      "40\n",
      "50\n",
      "60\n",
      "70\n",
      "80\n",
      "90\n",
      "100\n",
      "110\n",
      "120\n",
      "130\n",
      "140\n",
      "150\n",
      "160\n",
      "170\n",
      "180\n",
      "190\n",
      "200\n",
      "210\n",
      "220\n",
      "230\n",
      "240\n",
      "250\n",
      "260\n",
      "270\n",
      "280\n",
      "290\n"
     ]
    },
    {
     "data": {
      "image/png": "[encoded data removed]",
      "text/plain": [
       "<Figure size 360x360 with 1 Axes>"
      ]
     },
     "metadata": {},
     "output_type": "display_data"
    },
    {
     "name": "stdout",
     "output_type": "stream",
     "text": [
      "Creating data:\n",
      "0\n",
      "10\n",
      "20\n",
      "30\n",
      "40\n",
      "50\n",
      "60\n",
      "70\n",
      "80\n",
      "90\n",
      "100\n",
      "110\n",
      "120\n",
      "130\n",
      "140\n",
      "150\n",
      "160\n",
      "170\n",
      "180\n",
      "190\n",
      "200\n",
      "210\n",
      "220\n",
      "230\n",
      "240\n",
      "250\n",
      "260\n",
      "270\n",
      "280\n",
      "290\n",
      "(300, 6)\n",
      "(300, 5184)\n"
     ]
    }
   ],
   "source": [
    "# Genearte dataset and visualize one point \n",
    "\n",
    "[X_train_reg, Y_train_reg] = generate_dataset_regression(300, 20)\n",
    "visualize_prediction(X_train_reg[10], Y_train_reg[10])\n",
    "\n",
    "[X_test_reg, Y_test_reg] = generate_test_set_regression()\n",
    "\n",
    "print(Y_train_reg.shape)\n",
    "print(X_train_reg.shape)"
   ]
  },
  {
   "cell_type": "code",
   "execution_count": 124,
   "metadata": {},
   "outputs": [
    {
     "name": "stdout",
     "output_type": "stream",
     "text": [
      "6\n"
     ]
    }
   ],
   "source": [
    "from numpy import *\n",
    "from keras.utils import normalize\n",
    "\n",
    "#Normalizing y \n",
    "\n",
    "Y_scaled = normalize(Y_train_reg, axis=1)\n",
    "print(Y_scaled.shape[1])\n",
    "\n",
    "#Reshaping input data to use convolution layers\n",
    "\n",
    "X_train6 = X_train_reg.reshape(-1, IMAGE_SIZE,IMAGE_SIZE, 1)\n",
    "X_train6.shape\n",
    "\n",
    "X_test6 = X_test_reg.reshape(-1, IMAGE_SIZE,IMAGE_SIZE, 1)\n",
    "\n",
    "Y_test6 = normalize(Y_test_reg, axis=1)\n"
   ]
  },
  {
   "cell_type": "code",
   "execution_count": 171,
   "metadata": {},
   "outputs": [
    {
     "name": "stdout",
     "output_type": "stream",
     "text": [
      "Loss function: mean_squared_error\n",
      "Epoch 1/30\n",
      "300/300 [==============================] - 3s - loss: 0.5021 - acc: 0.1667     \n",
      "Epoch 2/30\n",
      "300/300 [==============================] - 1s - loss: 0.0564 - acc: 0.1867     \n",
      "Epoch 3/30\n",
      "300/300 [==============================] - 1s - loss: 0.0398 - acc: 0.1933     \n",
      "Epoch 4/30\n",
      "300/300 [==============================] - 1s - loss: 0.0373 - acc: 0.2333     \n",
      "Epoch 5/30\n",
      "300/300 [==============================] - 1s - loss: 0.0352 - acc: 0.3033     \n",
      "Epoch 6/30\n",
      "300/300 [==============================] - 1s - loss: 0.0330 - acc: 0.3567     \n",
      "Epoch 7/30\n",
      "300/300 [==============================] - 1s - loss: 0.0302 - acc: 0.4067     \n",
      "Epoch 8/30\n",
      "300/300 [==============================] - 1s - loss: 0.0281 - acc: 0.4133     \n",
      "Epoch 9/30\n",
      "300/300 [==============================] - 1s - loss: 0.0253 - acc: 0.4533     \n",
      "Epoch 10/30\n",
      "300/300 [==============================] - 2s - loss: 0.0230 - acc: 0.4967     \n",
      "Epoch 11/30\n",
      "300/300 [==============================] - 1s - loss: 0.0212 - acc: 0.5467     \n",
      "Epoch 12/30\n",
      "300/300 [==============================] - 1s - loss: 0.0192 - acc: 0.5500     \n",
      "Epoch 13/30\n",
      "300/300 [==============================] - 2s - loss: 0.0173 - acc: 0.5600     \n",
      "Epoch 14/30\n",
      "300/300 [==============================] - 1s - loss: 0.0149 - acc: 0.6133     \n",
      "Epoch 15/30\n",
      "300/300 [==============================] - 1s - loss: 0.0133 - acc: 0.6467     \n",
      "Epoch 16/30\n",
      "300/300 [==============================] - 1s - loss: 0.0122 - acc: 0.6067     \n",
      "Epoch 17/30\n",
      "300/300 [==============================] - 1s - loss: 0.0106 - acc: 0.6733     \n",
      "Epoch 18/30\n",
      "300/300 [==============================] - 2s - loss: 0.0093 - acc: 0.6767     \n",
      "Epoch 19/30\n",
      "300/300 [==============================] - 1s - loss: 0.0082 - acc: 0.6867     \n",
      "Epoch 20/30\n",
      "300/300 [==============================] - 2s - loss: 0.0069 - acc: 0.6800     \n",
      "Epoch 21/30\n",
      "300/300 [==============================] - 1s - loss: 0.0059 - acc: 0.7100     \n",
      "Epoch 22/30\n",
      "300/300 [==============================] - 2s - loss: 0.0052 - acc: 0.7100     \n",
      "Epoch 23/30\n",
      "300/300 [==============================] - 2s - loss: 0.0047 - acc: 0.7333     \n",
      "Epoch 24/30\n",
      "300/300 [==============================] - 1s - loss: 0.0042 - acc: 0.7400     \n",
      "Epoch 25/30\n",
      "300/300 [==============================] - 1s - loss: 0.0038 - acc: 0.7533     \n",
      "Epoch 26/30\n",
      "300/300 [==============================] - 1s - loss: 0.0033 - acc: 0.7733     \n",
      "Epoch 27/30\n",
      "300/300 [==============================] - 1s - loss: 0.0030 - acc: 0.7900     \n",
      "Epoch 28/30\n",
      "300/300 [==============================] - 1s - loss: 0.0026 - acc: 0.7933     \n",
      "Epoch 29/30\n",
      "300/300 [==============================] - 1s - loss: 0.0023 - acc: 0.8033     \n",
      "Epoch 30/30\n",
      "300/300 [==============================] - 1s - loss: 0.0019 - acc: 0.8367     \n"
     ]
    },
    {
     "data": {
      "text/plain": [
       "<keras.callbacks.History at 0xd615fc1d0>"
      ]
     },
     "execution_count": 171,
     "metadata": {},
     "output_type": "execute_result"
    }
   ],
   "source": [
    "# Regression model \n",
    "\n",
    "reg_model = Sequential()\n",
    "reg_model.add(Conv2D(16, kernel_size=(5, 5),activation='relu',input_shape=(72,72,1)))\n",
    "reg_model.add(MaxPooling2D(pool_size=(2,2),padding='same'))\n",
    "reg_model.add(Conv2D(64, kernel_size=(3, 3),activation='relu'))\n",
    "reg_model.add(MaxPooling2D(pool_size=(2,2),padding='same'))\n",
    "\n",
    "reg_model.add(Flatten())\n",
    "reg_model.add(Dense(100, activation='relu'))\n",
    "reg_model.add(Dense(6))\n",
    "\n",
    "reg_model.compile(optimizer = 'adam', loss = 'mean_squared_error', metrics = ['accuracy'])\n",
    "print(\"Loss function: \" + reg_model.loss)\n",
    "\n",
    "reg_model.fit(X_train6,Y_scaled, epochs = 30, batch_size=32)\n"
   ]
  },
  {
   "cell_type": "code",
   "execution_count": 172,
   "metadata": {},
   "outputs": [
    {
     "name": "stdout",
     "output_type": "stream",
     "text": [
      "288/300 [===========================>..] - ETA: 0s"
     ]
    },
    {
     "data": {
      "text/plain": [
       "[0.05446882208188375, 0.2533333335320155]"
      ]
     },
     "execution_count": 172,
     "metadata": {},
     "output_type": "execute_result"
    }
   ],
   "source": [
    "reg_model.evaluate(X_test6, Y_test6)"
   ]
  },
  {
   "cell_type": "markdown",
   "metadata": {},
   "source": [
    "# 7 Image Denoising"
   ]
  },
  {
   "cell_type": "code",
   "execution_count": 173,
   "metadata": {},
   "outputs": [],
   "source": [
    "#Generate pair of images, one with noise and one without\n",
    "def generate_a_drawing_2(figsize, U, V, noise=0.0):\n",
    "    fig = plt.figure(figsize=(figsize,figsize))\n",
    "    ax = plt.subplot(111)\n",
    "    plt.axis('Off')\n",
    "    ax.set_xlim(0,figsize)\n",
    "    ax.set_ylim(0,figsize)\n",
    "    ax.fill(U, V, \"k\")\n",
    "    fig.canvas.draw()\n",
    "    imdata = np.frombuffer(fig.canvas.tostring_rgb(), dtype=np.uint8)[::3].astype(np.float32)\n",
    "    imdata_n = imdata + noise * np.random.random(imdata.size)\n",
    "    plt.close(fig)\n",
    "    return imdata_n, imdata\n",
    "\n",
    "def generate_a_rectangle_2(free_location=False):\n",
    "    noise = np.random.randint(0,50) #add noise\n",
    "    figsize = 1.0    \n",
    "    U = np.zeros(4)\n",
    "    V = np.zeros(4)\n",
    "    if free_location:\n",
    "        corners = np.random.random(4)\n",
    "        top = max(corners[0], corners[1])\n",
    "        bottom = min(corners[0], corners[1])\n",
    "        left = min(corners[2], corners[3])\n",
    "        right = max(corners[2], corners[3])\n",
    "    else:\n",
    "        side = (0.3 + 0.7 * np.random.random()) * figsize\n",
    "        top = figsize/2 + side/2\n",
    "        bottom = figsize/2 - side/2\n",
    "        left = bottom\n",
    "        right = top\n",
    "    U[0] = U[1] = top\n",
    "    U[2] = U[3] = bottom\n",
    "    V[0] = V[3] = left\n",
    "    V[1] = V[2] = right\n",
    "    return generate_a_drawing_2(figsize, U, V, noise)\n",
    "\n",
    "\n",
    "def generate_a_disk_2(free_location=False):\n",
    "    noise = np.random.randint(0,50) \n",
    "    figsize = 1.0\n",
    "    if free_location:\n",
    "        center = np.random.random(2)\n",
    "    else:\n",
    "        center = (figsize/2, figsize/2)\n",
    "    radius = (0.3 + 0.7 * np.random.random()) * figsize/2\n",
    "    N = 50\n",
    "    U = np.zeros(N)\n",
    "    V = np.zeros(N)\n",
    "    i = 0\n",
    "    for t in np.linspace(0, 2*np.pi, N):\n",
    "        U[i] = center[0] + np.cos(t) * radius\n",
    "        V[i] = center[1] + np.sin(t) * radius\n",
    "        i = i + 1\n",
    "    return generate_a_drawing_2(figsize, U, V, noise)\n",
    "\n",
    "def generate_a_triangle_2(free_location=False):\n",
    "    noise = np.random.randint(0,50) \n",
    "    figsize = 1.0\n",
    "    if free_location:\n",
    "        U = np.random.random(3)\n",
    "        V = np.random.random(3)\n",
    "    else:\n",
    "        size = (0.3 + 0.7 * np.random.random())*figsize/2\n",
    "        middle = figsize/2\n",
    "        U = (middle, middle+size, middle-size)\n",
    "        V = (middle+size, middle-size, middle-size)\n",
    "    imdata = generate_a_drawing_2(figsize, U, V, noise)\n",
    "    return [imdata, [U[0], V[0], U[1], V[1], U[2], V[2]]]\n",
    "\n",
    "def generate_dataset_classification_2(nb_samples, free_location=False):\n",
    "    noise = np.random.randint(0,50) \n",
    "    # Getting im_size:\n",
    "    im_size = generate_a_rectangle().shape[0]\n",
    "    X = np.zeros([nb_samples,2,im_size])\n",
    "    Y = np.zeros(nb_samples)\n",
    "    print('Creating data:')\n",
    "    for i in range(nb_samples):\n",
    "        if i % 10 == 0:\n",
    "            print(i)\n",
    "        category = np.random.randint(3)\n",
    "        if category == 0:\n",
    "            X[i] = generate_a_rectangle_2(free_location)\n",
    "        elif category == 1: \n",
    "            X[i] = generate_a_disk_2(free_location)\n",
    "        else:\n",
    "            [X[i], V] = generate_a_triangle_2(free_location)\n",
    "        Y[i] = category\n",
    "    X = (X + noise) / (255 + 2 * noise)\n",
    "    return [X, Y]"
   ]
  },
  {
   "cell_type": "code",
   "execution_count": 175,
   "metadata": {},
   "outputs": [
    {
     "name": "stdout",
     "output_type": "stream",
     "text": [
      "Creating data:\n",
      "0\n",
      "10\n",
      "20\n",
      "30\n",
      "40\n",
      "50\n",
      "60\n",
      "70\n",
      "80\n",
      "90\n",
      "100\n",
      "110\n",
      "120\n",
      "130\n",
      "140\n",
      "150\n",
      "160\n",
      "170\n",
      "180\n",
      "190\n",
      "200\n",
      "210\n",
      "220\n",
      "230\n",
      "240\n",
      "250\n",
      "260\n",
      "270\n",
      "280\n",
      "290\n"
     ]
    }
   ],
   "source": [
    "train, old = generate_dataset_classification_2(300)"
   ]
  },
  {
   "cell_type": "code",
   "execution_count": 180,
   "metadata": {},
   "outputs": [],
   "source": [
    "#Make training data\n",
    "X_train7 = train[:,0]\n",
    "Y_train7 = train[:,1]\n",
    "\n",
    "X_train7 = X_train7.reshape(-1, 72,72,1)"
   ]
  },
  {
   "cell_type": "code",
   "execution_count": 182,
   "metadata": {},
   "outputs": [],
   "source": [
    "model = Sequential()\n",
    "model.add(Conv2D(16, kernel_size=(5, 5),activation='relu',input_shape=(72,72,1)))\n",
    "model.add(MaxPooling2D(pool_size=(2,2),padding='same'))\n",
    "model.add(Conv2D(64, kernel_size=(3, 3), activation='relu'))\n",
    "model.add(MaxPooling2D(pool_size=(2,2),padding='same'))\n",
    "model.add(Conv2D(128, kernel_size=(3, 3), activation='relu'))\n",
    "model.add(MaxPooling2D(pool_size=(2,2),padding='same'))\n",
    "model.add(Flatten())\n",
    "model.add(Dense(100, activation = 'relu'))\n",
    "model.add(Dense(3))  "
   ]
  },
  {
   "cell_type": "code",
   "execution_count": null,
   "metadata": {},
   "outputs": [],
   "source": []
  }
 ],
 "metadata": {
  "kernelspec": {
   "display_name": "Python 3",
   "language": "python",
   "name": "python3"
  },
  "language_info": {
   "codemirror_mode": {
    "name": "ipython",
    "version": 3
   },
   "file_extension": ".py",
   "mimetype": "text/x-python",
   "name": "python",
   "nbconvert_exporter": "python",
   "pygments_lexer": "ipython3",
   "version": "3.6.5"
  }
 },
 "nbformat": 4,
 "nbformat_minor": 2
}
