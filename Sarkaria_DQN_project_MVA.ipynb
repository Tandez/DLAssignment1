{
 "cells": [
  {
   "cell_type": "markdown",
   "metadata": {},
   "source": [
    "**You may need to install [OpenCV](https://pypi.python.org/pypi/opencv-python) and [scikit-video](http://www.scikit-video.org/stable/).**"
   ]
  },
  {
   "cell_type": "code",
   "execution_count": 2,
   "metadata": {},
   "outputs": [],
   "source": [
    "import keras\n",
    "import numpy as np\n",
    "import io\n",
    "import base64\n",
    "from IPython.display import HTML\n",
    "import skvideo\n",
    "skvideo.setFFmpegPath(\"C:/FFmpeg/bin\")\n",
    "import skvideo.io\n",
    "\n",
    "import cv2\n",
    "import json\n",
    "import random as rd\n",
    "from collections import deque\n",
    "\n",
    "from keras.models import Sequential,model_from_json\n",
    "from keras.layers.core import Dense\n",
    "from keras.optimizers import sgd\n",
    "from keras.layers import Conv2D, MaxPooling2D, Activation, AveragePooling2D,Reshape,BatchNormalization,Flatten, Dropout\n"
   ]
  },
  {
   "cell_type": "code",
   "execution_count": null,
   "metadata": {},
   "outputs": [],
   "source": []
  },
  {
   "cell_type": "markdown",
   "metadata": {},
   "source": [
    "# MiniProject #3: Deep Reinforcement Learning"
   ]
  },
  {
   "cell_type": "markdown",
   "metadata": {},
   "source": [
    "__Notations__: $E_p$ is the expectation under probability $p$. Please justify each of your answer and widely comment your code."
   ]
  },
  {
   "cell_type": "markdown",
   "metadata": {},
   "source": [
    "# Context"
   ]
  },
  {
   "cell_type": "markdown",
   "metadata": {},
   "source": [
    "In a reinforcement learning algorithm, we modelize each step $t$ as an action $a_t$ obtained from a state $s_t$, i.e. $\\{(a_{t},s_{t})_{t\\leq T}\\}$ having the Markov property. We consider a discount factor $\\gamma \\in [0,1]$ that ensures convergence. The goal is to find among all the policies $\\pi$, one that maximizes the expected reward:\n",
    "\n",
    "\\begin{equation*}\n",
    "R(\\pi)=\\sum_{t\\leq T}E_{p^{\\pi}}[\\gamma^t r(s_{t},a_{t})] \\> ,\n",
    "\\end{equation*}\n",
    "\n",
    "where: \n",
    "\\begin{equation*}p^{\\pi}(a_{0},a_{1},s_{1},...,a_{T},s_{T})=p(a_{0})\\prod_{t=1}^{T}\\pi(a_{t}|s_{t})p(s_{t+1}|s_{t},a_{t}) \\> .\n",
    "\\end{equation*}\n",
    "\n",
    "We note the $Q$-function:\n",
    "\n",
    "\\begin{equation*}Q^\\pi(s,a)=E_{p^{\\pi}}[\\sum_{t\\leq T}\\gamma^{t}r(s_{t},a_{t})|s_{0}=s,a_{0}=a] \\> .\n",
    "\\end{equation*}\n",
    "\n",
    "Thus, the optimal Q function is:\n",
    "\\begin{equation*}\n",
    "Q^*(s,a)=\\max_{\\pi}Q^\\pi(s,a) \\> .\n",
    "\\end{equation*}\n",
    "\n",
    "In this project, we will apply the deep reinforcement learning techniques to a simple game: an agent will have to learn from scratch a policy that will permit it maximizing a reward."
   ]
  },
  {
   "cell_type": "markdown",
   "metadata": {},
   "source": [
    "## The environment, the agent and the game"
   ]
  },
  {
   "cell_type": "markdown",
   "metadata": {},
   "source": [
    "### The environment"
   ]
  },
  {
   "cell_type": "markdown",
   "metadata": {},
   "source": [
    "```Environment``` is an abstract class that represents the states, rewards, and actions to obtain the new state."
   ]
  },
  {
   "cell_type": "code",
   "execution_count": 3,
   "metadata": {},
   "outputs": [],
   "source": [
    "class Environment(object):\n",
    "    def __init__(self):\n",
    "        pass\n",
    "\n",
    "    def act(self, act):\n",
    "        \"\"\"\n",
    "        One can act on the environment and obtain its reaction:\n",
    "        - the new state\n",
    "        - the reward of the new state\n",
    "        - should we continue the game?\n",
    "\n",
    "        :return: state, reward, game_over\n",
    "        \"\"\"\n",
    "        pass\n",
    "\n",
    "\n",
    "    def reset(self):\n",
    "        \"\"\"\n",
    "        Reinitialize the environment to a random state and returns\n",
    "        the original state\n",
    "\n",
    "        :return: state\n",
    "        \"\"\"\n",
    "        pass\n",
    "    \n",
    "    def draw(self):\n",
    "        \"\"\"\n",
    "        Visualize in the console or graphically the current state\n",
    "        \"\"\"\n",
    "        pass"
   ]
  },
  {
   "cell_type": "markdown",
   "metadata": {},
   "source": [
    "The method ```act``` allows to act on the environment at a given state $s_t$ (stored internally), via action $a_t$. The method will return the new state $s_{t+1}$, the reward $r(s_{t},a_{t})$ and determines if $t\\leq T$ (*game_over*).\n",
    "\n",
    "The method ```reset``` simply reinitializes the environment to a random state $s_0$.\n",
    "\n",
    "The method ```draw``` displays the current state $s_t$ (this is useful to check the behavior of the Agent).\n",
    "\n",
    "We modelize $s_t$ as a tensor, while $a_t$ is an integer."
   ]
  },
  {
   "cell_type": "markdown",
   "metadata": {},
   "source": [
    "### The Agent"
   ]
  },
  {
   "cell_type": "markdown",
   "metadata": {},
   "source": [
    "The goal of the ```Agent``` is to interact with the ```Environment``` by proposing actions $a_t$ obtained from a given state $s_t$ to attempt to maximize its __reward__ $r(s_t,a_t)$. We propose the following abstract class:"
   ]
  },
  {
   "cell_type": "code",
   "execution_count": 4,
   "metadata": {},
   "outputs": [],
   "source": [
    "class Agent(object):\n",
    "    def __init__(self, epsilon=0.1, n_action=4):\n",
    "        self.epsilon = epsilon\n",
    "        self.n_action = n_action\n",
    "    \n",
    "    def set_epsilon(self,e):\n",
    "        self.epsilon = e\n",
    "\n",
    "    def act(self,s,train=True):\n",
    "        \"\"\" This function should return the next action to do:\n",
    "        an integer between 0 and 4 (not included) with a random exploration of epsilon\"\"\"\n",
    "        if train:\n",
    "            if np.random.rand() <= self.epsilon:\n",
    "                a = np.random.randint(0, self.n_action, size=1)[0]\n",
    "            else:\n",
    "                a = self.learned_act(s)\n",
    "        else: # in some cases, this can improve the performance.. remove it if poor performances\n",
    "            a = self.learned_act(s)\n",
    "\n",
    "        return a\n",
    "\n",
    "    def learned_act(self,s):\n",
    "        \"\"\" Act via the policy of the agent, from a given state s\n",
    "        it proposes an action a\"\"\"\n",
    "        pass\n",
    "\n",
    "    def reinforce(self, s, n_s, a, r, game_over_):\n",
    "        \"\"\" This function is the core of the learning algorithm. \n",
    "        It takes as an input the current state s_, the next state n_s_\n",
    "        the action a_ used to move from s_ to n_s_ and the reward r_.\n",
    "        \n",
    "        Its goal is to learn a policy.\n",
    "        \"\"\"\n",
    "        pass\n",
    "\n",
    "    def save(self):\n",
    "        \"\"\" This function returns basic stats if applicable: the\n",
    "        loss and/or the model\"\"\"\n",
    "        pass\n",
    "\n",
    "    def load(self):\n",
    "        \"\"\" This function allows to restore a model\"\"\"\n",
    "        pass"
   ]
  },
  {
   "cell_type": "markdown",
   "metadata": {},
   "source": [
    "***\n",
    "__Question 1__:\n",
    "Explain the function act. Why is ```epsilon``` essential?\n",
    "\n"
   ]
  },
  {
   "cell_type": "markdown",
   "metadata": {},
   "source": [
    "Answer 1:\n",
    "\n",
    "The function act help the agent take an action given a current state of the environment s. There are several options to choose from and during training we can randomly choose one of them. After multiple iterations of training, the agent finds an optimal option that optimizes the reward function. The algorithm will always choose this action (called exploitation). \n",
    "$$ a^{*} = argmax_{a} Q^{\\pi} (s , a) $$\n",
    "\n",
    "However there might be other actions still that are better. Looking for these options is called exploration and the standard way to explore is to introduce an additional term, epsilon. We genereate a  random value and if it is less than epsilon, a random act is chosen. If not, the learned act that optimizes reward is chosen. Epsilon manages the tradeoff between explortion and exploitation.\n",
    "\n",
    "\n",
    "After we’ve explored all the options and we know for sure the best option, the exploration should turn off (we set train to false)\n"
   ]
  },
  {
   "cell_type": "markdown",
   "metadata": {},
   "source": [
    "***\n",
    "### The Game"
   ]
  },
  {
   "cell_type": "markdown",
   "metadata": {},
   "source": [
    "The ```Agent``` and the ```Environment``` work in an interlaced way as in the following (take some time to understand this code as it is the core of the project)\n",
    "\n",
    "```python\n",
    "\n",
    "epoch = 300\n",
    "env = Environment()\n",
    "agent = Agent()\n",
    "\n",
    "\n",
    "# Number of won games\n",
    "score = 0\n",
    "loss = 0\n",
    "\n",
    "\n",
    "for e in range(epoch):\n",
    "    # At each epoch, we restart to a fresh game and get the initial state\n",
    "    state = env.reset()\n",
    "    # This assumes that the games will end\n",
    "    game_over = False\n",
    "\n",
    "    win = 0\n",
    "    lose = 0\n",
    "    \n",
    "    while not game_over:\n",
    "        # The agent performs an action\n",
    "        action = agent.act(state)\n",
    "\n",
    "        # Apply an action to the environment, get the next state, the reward\n",
    "        # and if the games end\n",
    "        prev_state = state\n",
    "        state, reward, game_over = env.act(action)\n",
    "\n",
    "        # Update the counters\n",
    "        if reward > 0:\n",
    "            win = win + reward\n",
    "        if reward < 0:\n",
    "            lose = lose -reward\n",
    "\n",
    "        # Apply the reinforcement strategy\n",
    "        loss = agent.reinforce(prev_state, state,  action, reward, game_over)\n",
    "\n",
    "    # Save as a mp4\n",
    "    if e % 10 == 0:\n",
    "        env.draw(e)\n",
    "\n",
    "    # Update stats\n",
    "    score += win-lose\n",
    "\n",
    "    print(\"Epoch {:03d}/{:03d} | Loss {:.4f} | Win/lose count {}/{} ({})\"\n",
    "          .format(e, epoch, loss, win, lose, win-lose))\n",
    "    agent.save()\n",
    "```"
   ]
  },
  {
   "cell_type": "markdown",
   "metadata": {},
   "source": [
    "# The game, *eat cheese*"
   ]
  },
  {
   "cell_type": "markdown",
   "metadata": {},
   "source": [
    "A rat runs on an island and tries to eat as much as possible. The island is subdivided into $N\\times N$ cells, in which there are cheese (+0.5) and poisonous cells (-1). The rat has a visibility of 2 cells (thus it can see $5^2$ cells). The rat is given a time $T$ to accumulate as much food as possible. It can perform 4 actions: going up, down, left, right. \n",
    "\n",
    "The goal is to code an agent to solve this task that will learn by trial and error. We propose the following environment:"
   ]
  },
  {
   "cell_type": "code",
   "execution_count": 5,
   "metadata": {},
   "outputs": [],
   "source": [
    "class Environment(object):\n",
    "    def __init__(self, grid_size=10, max_time=500, temperature=0.1):\n",
    "        grid_size = grid_size+4\n",
    "        self.grid_size = grid_size\n",
    "        self.max_time = max_time\n",
    "        self.temperature = temperature\n",
    "\n",
    "        #board on which one plays\n",
    "        self.board = np.zeros((grid_size,grid_size))\n",
    "        self.position = np.zeros((grid_size,grid_size))\n",
    "\n",
    "        # coordinate of the cat\n",
    "        self.x = 0\n",
    "        self.y = 1\n",
    "\n",
    "        # self time\n",
    "        self.t = 0\n",
    "\n",
    "        self.scale=16\n",
    "\n",
    "        self.to_draw = np.zeros((max_time+2, grid_size*self.scale, grid_size*self.scale, 3))\n",
    "\n",
    "\n",
    "    def draw(self,e):\n",
    "        skvideo.io.vwrite(str(e) + '.mp4', self.to_draw)\n",
    "\n",
    "    def get_frame(self,t):\n",
    "        b = np.zeros((self.grid_size,self.grid_size,3))+128\n",
    "        b[self.board>0,0] = 256\n",
    "        b[self.board < 0, 2] = 256\n",
    "        b[self.x,self.y,:]=256\n",
    "        b[-2:,:,:]=0\n",
    "        b[:,-2:,:]=0\n",
    "        b[:2,:,:]=0\n",
    "        b[:,:2,:]=0\n",
    "        \n",
    "        b =  cv2.resize(b, None, fx=self.scale, fy=self.scale, interpolation=cv2.INTER_NEAREST)\n",
    "\n",
    "        self.to_draw[t,:,:,:]=b\n",
    "\n",
    "\n",
    "    def act(self, action):\n",
    "        \"\"\"This function returns the new state, reward and decides if the\n",
    "        game ends.\"\"\"\n",
    "\n",
    "        self.get_frame(int(self.t))\n",
    "\n",
    "        self.position = np.zeros((self.grid_size, self.grid_size))\n",
    "\n",
    "        self.position[0:2,:]= -1\n",
    "        self.position[:,0:2] = -1\n",
    "        self.position[-2:, :] = -1\n",
    "        self.position[-2:, :] = -1\n",
    "\n",
    "        self.position[self.x, self.y] = 1\n",
    "        if action == 0:\n",
    "            if self.x == self.grid_size-3:\n",
    "                self.x = self.x-1\n",
    "            else:\n",
    "                self.x = self.x + 1\n",
    "        elif action == 1:\n",
    "            if self.x == 2:\n",
    "                self.x = self.x+1\n",
    "            else:\n",
    "                self.x = self.x-1\n",
    "        elif action == 2:\n",
    "            if self.y == self.grid_size - 3:\n",
    "                self.y = self.y - 1\n",
    "            else:\n",
    "                self.y = self.y + 1\n",
    "        elif action == 3:\n",
    "            if self.y == 2:\n",
    "                self.y = self.y + 1\n",
    "            else:\n",
    "                self.y = self.y - 1\n",
    "        else:\n",
    "            RuntimeError('Error: action not recognized')\n",
    "\n",
    "        self.t = self.t + 1\n",
    "        reward = self.board[self.x, self.y]\n",
    "        self.board[self.x, self.y] = 0\n",
    "        game_over = self.t > self.max_time\n",
    "        state = np.concatenate((self.board.reshape(self.grid_size, self.grid_size,1),\n",
    "                        self.position.reshape(self.grid_size, self.grid_size,1)),axis=2)\n",
    "        state = state[self.x-2:self.x+3,self.y-2:self.y+3,:]\n",
    "\n",
    "        return state, reward, game_over\n",
    "\n",
    "    def reset(self):\n",
    "        \"\"\"This function resets the game and returns the initial state\"\"\"\n",
    "\n",
    "        self.x = np.random.randint(3, self.grid_size-3, size=1)[0]\n",
    "        self.y = np.random.randint(3, self.grid_size-3, size=1)[0]\n",
    "\n",
    "\n",
    "        bonus = 0.5*np.random.binomial(1,self.temperature,size=self.grid_size**2)\n",
    "        bonus = bonus.reshape(self.grid_size,self.grid_size)\n",
    "\n",
    "        malus = -1.0*np.random.binomial(1,self.temperature,size=self.grid_size**2)\n",
    "        malus = malus.reshape(self.grid_size, self.grid_size)\n",
    "\n",
    "        self.to_draw = np.zeros((self.max_time+2, self.grid_size*self.scale, self.grid_size*self.scale, 3))\n",
    "\n",
    "\n",
    "        malus[bonus>0]=0\n",
    "\n",
    "        self.board = bonus + malus\n",
    "\n",
    "        self.position = np.zeros((self.grid_size, self.grid_size))\n",
    "        self.position[0:2,:]= -1\n",
    "        self.position[:,0:2] = -1\n",
    "        self.position[-2:, :] = -1\n",
    "        self.position[-2:, :] = -1\n",
    "        self.board[self.x,self.y] = 0\n",
    "        self.t = 0\n",
    "\n",
    "        state = np.concatenate((\n",
    "                               self.board.reshape(self.grid_size, self.grid_size,1),\n",
    "                        self.position.reshape(self.grid_size, self.grid_size,1)),axis=2)\n",
    "\n",
    "        state = state[self.x - 2:self.x + 3, self.y - 2:self.y + 3, :]\n",
    "        return state"
   ]
  },
  {
   "cell_type": "markdown",
   "metadata": {},
   "source": [
    "The following elements are important because they correspond to the hyper parameters for this project:"
   ]
  },
  {
   "cell_type": "code",
   "execution_count": 6,
   "metadata": {},
   "outputs": [],
   "source": [
    "# parameters\n",
    "size = 13\n",
    "T=200\n",
    "temperature=0.3\n",
    "epochs_train= 20 # set small when debugging\n",
    "epochs_test= 20 # set small when debugging\n",
    "\n",
    "# display videos\n",
    "def display_videos(name):\n",
    "    video = io.open(name, 'r+b').read()\n",
    "    encoded = base64.b64encode(video)\n",
    "    return '''<video alt=\"test\" controls>\n",
    "                <source src=\"data:video/mp4;base64,{0}\" type=\"video/mp4\" />\n",
    "             </video>'''.format(encoded.decode('ascii'))"
   ]
  },
  {
   "cell_type": "markdown",
   "metadata": {},
   "source": [
    "__Question 2__ Explain the use of the arrays ```position``` and ```board```."
   ]
  },
  {
   "cell_type": "markdown",
   "metadata": {},
   "source": [
    "The position array contains the rat's position on the board at time t. Every time act is called, all the elements of the array are set to zeros except the position of the rat that is set to 1. The border 2 grids on all four sides are set  to -1.\n",
    "\n",
    "The board array consists of the reward view of the board on which the rat moves. The cells can be one of the three things; neutral, poisonous or conatin cheese. The cells represents the reward of each type and are respectively 0, -1 and 0.5. Reward distribution is defined in the reset function with binomial law\n"
   ]
  },
  {
   "cell_type": "markdown",
   "metadata": {},
   "source": [
    "## Random Agent"
   ]
  },
  {
   "cell_type": "markdown",
   "metadata": {},
   "source": [
    "***\n",
    "__Question 3__ Implement a random Agent (only ```learned_act``` needs to be implemented):"
   ]
  },
  {
   "cell_type": "code",
   "execution_count": 27,
   "metadata": {},
   "outputs": [],
   "source": [
    "class RandomAgent(Agent):\n",
    "    def __init__(self):\n",
    "        super(RandomAgent, self).__init__()\n",
    "        pass\n",
    "\n",
    "    def learned_act(self, s):\n",
    "        return rd.randint(0,3) #generates one of 0,1,2 or 3 randomly as these are the \n",
    "                         #four actions available to the agent\n",
    "        \n",
    "        "
   ]
  },
  {
   "cell_type": "markdown",
   "metadata": {},
   "source": [
    "***\n",
    "***\n",
    "__Question 4__ Visualize the game moves. You need to fill in the following function for the evaluation:"
   ]
  },
  {
   "cell_type": "code",
   "execution_count": 28,
   "metadata": {},
   "outputs": [],
   "source": [
    "def test(agent,env,epochs,prefix=''):\n",
    "    # Number of won games\n",
    "    score = 0\n",
    "        \n",
    "    for e in range(epochs):\n",
    "        \n",
    "        ##### FILL IN HERE\n",
    "        win = 0\n",
    "        lose = 0\n",
    "        game_over = False\n",
    "        \n",
    "        state = env.reset()\n",
    "        \n",
    "        while not game_over:\n",
    "            # The agent performs an action\n",
    "            action = agent.learned_act(state)\n",
    "\n",
    "            # Apply an action to the environment, get the next state, the reward\n",
    "            # and if the games end\n",
    "            state, reward, game_over = env.act(action)\n",
    "\n",
    "            # Update the counters\n",
    "            if reward > 0:\n",
    "                win = win + reward\n",
    "            if reward < 0:\n",
    "                lose = lose -reward\n",
    "        \n",
    "        # Save as a mp4\n",
    "        env.draw(prefix+str(e))\n",
    "\n",
    "        # Update stats\n",
    "        score = score + win-lose\n",
    "\n",
    "        print(\"Win/lose count {}/{}. Average score ({})\"\n",
    "              .format(win, lose, score/(1+e)))\n",
    "    print('Final score: '+str(score/epochs))"
   ]
  },
  {
   "cell_type": "code",
   "execution_count": 29,
   "metadata": {},
   "outputs": [
    {
     "name": "stdout",
     "output_type": "stream",
     "text": [
      "Win/lose count 12.5/20.0. Average score (-7.5)\n",
      "Win/lose count 5.5/7.0. Average score (-4.5)\n",
      "Win/lose count 8.0/14.0. Average score (-5.0)\n",
      "Win/lose count 5.5/13.0. Average score (-5.625)\n",
      "Win/lose count 6.0/11.0. Average score (-5.5)\n",
      "Win/lose count 12.5/15.0. Average score (-5.0)\n",
      "Win/lose count 7.5/11.0. Average score (-4.785714285714286)\n",
      "Win/lose count 6.0/7.0. Average score (-4.3125)\n",
      "Win/lose count 10.5/15.0. Average score (-4.333333333333333)\n",
      "Win/lose count 8.0/17.0. Average score (-4.8)\n",
      "Win/lose count 7.0/17.0. Average score (-5.2727272727272725)\n",
      "Win/lose count 11.5/12.0. Average score (-4.875)\n",
      "Win/lose count 12.5/23.0. Average score (-5.3076923076923075)\n",
      "Win/lose count 5.5/10.0. Average score (-5.25)\n",
      "Win/lose count 9.5/11.0. Average score (-5.0)\n",
      "Win/lose count 9.0/20.0. Average score (-5.375)\n",
      "Win/lose count 14.0/22.0. Average score (-5.529411764705882)\n",
      "Win/lose count 10.0/13.0. Average score (-5.388888888888889)\n",
      "Win/lose count 10.5/6.0. Average score (-4.868421052631579)\n",
      "Win/lose count 9.5/19.0. Average score (-5.1)\n",
      "Final score: -5.1\n"
     ]
    },
    {
     "data": {
      "text/html": [
       "<video alt=\"test\" controls>\n",
       "                <source src=\"data:video/mp4;base64,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\" type=\"video/mp4\" />\n",
       "             </video>"
      ],
      "text/plain": [
       "<IPython.core.display.HTML object>"
      ]
     },
     "execution_count": 29,
     "metadata": {},
     "output_type": "execute_result"
    }
   ],
   "source": [
    "# Initialize the game\n",
    "env = Environment(grid_size=size, max_time=T,temperature=temperature)\n",
    "\n",
    "# Initialize the agent!\n",
    "agent = RandomAgent()\n",
    "\n",
    "test(agent,env,epochs_test,prefix='random')\n",
    "HTML(display_videos('random0.mp4'))"
   ]
  },
  {
   "cell_type": "markdown",
   "metadata": {},
   "source": [
    "***\n",
    "## DQN"
   ]
  },
  {
   "cell_type": "markdown",
   "metadata": {},
   "source": [
    "Let us assume here that $T=\\infty$.\n",
    "\n",
    "***\n",
    "__Question 5__ Let $\\pi$ be a policy, show that:\n",
    "\n",
    "\\begin{equation*}\n",
    "Q^{\\pi}(s,a)=E_{(s',a')\\sim p(.|s,a)}[r(s,a)+\\gamma Q^{\\pi}(s',a')]\n",
    "\\end{equation*}\n",
    "\n",
    "Then, show that for the optimal policy $\\pi^*$ (we assume its existence), the following holds: \n",
    "\n",
    "\\begin{equation*}\n",
    "Q^{*}(s,a)=E_{s'\\sim \\pi^*(.|s,a)}[r(s,a)+\\gamma\\max_{a'}Q^{*}(s',a')].\n",
    "\\end{equation*}\n",
    "Finally, deduce plausible objective is:\n",
    "\n",
    "\\begin{equation*}\n",
    "\\mathcal{L}(\\theta)=E_{s' \\sim \\pi^*(.|s,a)}\\Vert r+\\gamma\\max\\max_{a'}Q(s',a',\\theta)-Q(s,a,\\theta)\\Vert^{2}.\n",
    "\\end{equation*}\n",
    "\n",
    "\n"
   ]
  },
  {
   "cell_type": "markdown",
   "metadata": {},
   "source": [
    "A5) The action-value function can be written as \n",
    "\n",
    "Thus \\begin{equation} Q^\\pi(s,a)=E{p^{\\pi}}[\\sum{t\\leq T}\\gamma^{t}r(s{t},a{t})|s{0}=s,a{0}=a] > . \\end{equation}\n",
    "\n",
    "We use the Markov property and define the function as a Bellman equation:\n",
    "\n",
    "$$\\begin{equation*}\n",
    "Q^{\\pi}(s,a)=E_{(s',a')\\sim p(.|s,a)}[r(s,a)+\\gamma Q^{\\pi}(s',a')]\n",
    "\\end{equation*}$$\n",
    "One assumes that the optimal policy $\\pi^*$ exists, the optimal Q function is defined as:\n",
    "\n",
    "$$\\begin{equation*}\n",
    "Q^*(s,a)=\\max_{\\pi}Q^\\pi(s,a) \\&gt; \n",
    "\\end{equation*}$$$$\\begin{equation*}\n",
    "Q^*(s,a)= \\max_{\\pi} E_{(s',a')\\sim p(.|s,a)}[r(s,a)+\\gamma Q^{\\pi}(s',a')] \\&gt; \n",
    "\\end{equation*}$$$$\\begin{equation*}\n",
    "Q^*(s,a)= E_{s'\\sim \\pi^*(.|s,a)}[r(s,a)+\\gamma Q^{\\pi^*}(s',a')] \\&gt; \n",
    "\\end{equation*}$$$$\\begin{equation*}\n",
    "Q^*(s,a)= E_{s'\\sim \\pi^*(.|s,a)}[r(s,a)+\\gamma\\max_{a'}Q^{*}(s',a')].\n",
    "\\end{equation*}$$\n",
    "\n",
    "Considering mean square, a plausible objective is to minimize the loss:\n",
    "\n",
    "$$\\begin{equation*}\n",
    "\\mathcal{L}(\\theta) = E_{s' \\sim \\pi^*(.|s,a)}( ( Q^* (s,a,\\theta ) - Q(s,a,\\theta)) ^2) \n",
    "\\end{equation*}$$$$\\begin{equation*}\n",
    "\\mathcal{L}(\\theta) =  E_{s' \\sim \\pi^*(.|s,a)} ( ( r(s,a)+\\gamma\\max_{a'}Q^{*}(s',a', \\theta) - Q(s,a,\\theta)) ^2) \n",
    "\\end{equation*}$$$$\\begin{equation*}\n",
    "\\mathcal{L}(\\theta) = E_{s' \\sim \\pi^*(.|s,a)}\\Vert r+\\gamma\\max\\max_{a'}Q(s',a',\\theta)-Q(s,a,\\theta)\\Vert^{2}.\n",
    "\\end{equation*}$$\n"
   ]
  },
  {
   "cell_type": "markdown",
   "metadata": {},
   "source": [
    "***\n",
    "The DQN-learning algorithm relies on these derivations to train the parameters $\\theta$ of a Deep Neural Network:\n",
    "\n",
    "1. At the state $s_t$, select the action $a_t$ with best reward using $Q_t$ and store the results;\n",
    "\n",
    "2. Obtain the new state $s_{t+1}$ from the environment $p$;\n",
    "\n",
    "3. Store $(s_t,a_t,s_{t+1})$;\n",
    "\n",
    "4. Obtain $Q_{t+1}$ by minimizing  $\\mathcal{L}$ from a recovered batch from the previously stored results.\n",
    "\n",
    "***\n",
    "__Question 6__ Implement the class ```Memory``` that stores moves (in a replay buffer) via ```remember``` and provides a ```random_access``` to these. Specify a maximum memory size to avoid side effects. You can for example use a ```list()``` and set by default ```max_memory=100```."
   ]
  },
  {
   "cell_type": "code",
   "execution_count": 10,
   "metadata": {},
   "outputs": [],
   "source": [
    "class Memory(object):\n",
    "    def __init__(self, max_memory=100):\n",
    "        self.max_memory = max_memory\n",
    "        self.memory = deque(maxlen=self.max_memory) \n",
    "\n",
    "    def remember(self, m):\n",
    "        self.memory.append(m)\n",
    "\n",
    "    def random_access(self):\n",
    "        idx = rd.randint(0,len(self.memory)-1)\n",
    "        return self.memory[idx]"
   ]
  },
  {
   "cell_type": "markdown",
   "metadata": {},
   "source": [
    "***\n",
    "The pipeline we will use for training is given below:"
   ]
  },
  {
   "cell_type": "code",
   "execution_count": 11,
   "metadata": {},
   "outputs": [],
   "source": [
    "def train(agent,env,epoch = 5,prefix=''):\n",
    "    # Number of won games\n",
    "    score = 0\n",
    "    loss = 0\n",
    "\n",
    "    for e in range(epoch):\n",
    "        # At each epoch, we restart to a fresh game and get the initial state\n",
    "        state = env.reset()\n",
    "        # This assumes that the games will terminate\n",
    "        game_over = False\n",
    "\n",
    "        win = 0\n",
    "        lose = 0\n",
    "\n",
    "        while not game_over:\n",
    "            # The agent performs an action\n",
    "            action = agent.act(state)\n",
    "\n",
    "            # Apply an action to the environment, get the next state, the reward\n",
    "            # and if the games end\n",
    "            prev_state = state\n",
    "            state, reward, game_over = env.act(action)\n",
    "\n",
    "            # Update the counters\n",
    "            if reward > 0:\n",
    "                win = win + reward\n",
    "            if reward < 0:\n",
    "                lose = lose -reward\n",
    "\n",
    "            # Apply the reinforcement strategy\n",
    "            loss = agent.reinforce(prev_state, state,  action, reward, game_over)\n",
    "\n",
    "        # Save as a mp4\n",
    "        if e % 10 == 0:\n",
    "            env.draw(prefix+str(e))\n",
    "\n",
    "        # Update stats\n",
    "        score += win-lose\n",
    "\n",
    "        print(\"Epoch {:03d}/{:03d} | Loss {:.4f} | Win/lose count {}/{} ({})\"\n",
    "              .format(e, epoch, loss, win, lose, win-lose))\n",
    "        agent.save(name_weights=prefix+'model.h5',name_model=prefix+'model.json')"
   ]
  },
  {
   "cell_type": "markdown",
   "metadata": {},
   "source": [
    "***\n",
    "__Question 7__ Implement the DQN training algorithm using a cascade of fully connected layers. You can use different learning rate, batch size or memory size parameters. In particular, the loss might oscillate while the player will start to win the games. You have to find a good criterium."
   ]
  },
  {
   "cell_type": "code",
   "execution_count": 12,
   "metadata": {},
   "outputs": [],
   "source": [
    "class DQN(Agent):\n",
    "    def __init__(self, grid_size,  epsilon = 0.1, memory_size=100, batch_size = 16,n_state=2):\n",
    "        super(DQN, self).__init__(epsilon = epsilon)\n",
    "\n",
    "        # Discount for Q learning\n",
    "        self.discount = 0.99\n",
    "        \n",
    "        self.grid_size = grid_size\n",
    "        \n",
    "        # number of state\n",
    "        self.n_state = n_state\n",
    "\n",
    "        # Memory\n",
    "        self.memory = Memory(memory_size)\n",
    "        \n",
    "        # Batch size when learning\n",
    "        self.batch_size = batch_size\n",
    "\n",
    "    def learned_act(self, s):\n",
    "        return np.argmax(self.model.predict(np.expand_dims(s, axis=0)), axis=1).astype(int)\n",
    "\n",
    "    def reinforce(self, s_, n_s_, a_, r_, game_over_):\n",
    "        # Two steps: first memorize the states, second learn from the pool\n",
    "        \n",
    "        self.memory.remember([s_, n_s_, a_, r_, game_over_])\n",
    "        \n",
    "        input_states = np.zeros((self.batch_size, 5,5,self.n_state))\n",
    "        target_q = np.zeros((self.batch_size, 4))\n",
    "        \n",
    "        for i in range(self.batch_size):\n",
    "            s_, n_s_, a_, r_, game_over_ = self.memory.random_access()\n",
    "            input_states[i] = s_\n",
    "            target_q[i] = self.model.predict(np.expand_dims(n_s_, axis=0))\n",
    "            if game_over_:\n",
    "                target_q[i, a_] = r_\n",
    "            else:\n",
    "                target_q[i,a_] = r_ + self.discount * np.amax(self.model.predict(np.expand_dims(n_s_, axis=0)), axis=1)\n",
    "        ######## FILL IN\n",
    "        # HINT: Clip the target to avoid exploiding gradients.. -- clipping is a bit tighter\n",
    "        target_q = np.clip(target_q, -3, 3)\n",
    "        l = self.model.train_on_batch(input_states, target_q)\n",
    "        return l\n",
    "\n",
    "    def save(self,name_weights='model.h5',name_model='model.json'):\n",
    "        self.model.save_weights(name_weights, overwrite=True)\n",
    "        with open(name_model, \"w\") as outfile:\n",
    "            json.dump(self.model.to_json(), outfile)\n",
    "            \n",
    "    def load(self,name_weights='model.h5',name_model='model.json'):\n",
    "        with open(name_model, \"r\") as jfile:\n",
    "            model = model_from_json(json.load(jfile))\n",
    "        model.load_weights(name_weights)\n",
    "        model.compile(\"sgd\", \"mse\")\n",
    "        self.model = model\n",
    "\n",
    "            \n",
    "class DQN_FC(DQN):\n",
    "    def __init__(self, *args, lr=0.1,**kwargs):\n",
    "        super(DQN_FC, self).__init__( *args,**kwargs)\n",
    "        \n",
    "        state_size = 50\n",
    "        \n",
    "        model = Sequential()\n",
    "        model.add(Reshape((state_size,), input_shape=(5,5,self.n_state)))\n",
    "        model.add(Dense(256, activation='relu', input_dim=5*5*self.n_state))\n",
    "        model.add(Dense(32, activation='relu',))\n",
    "        model.add(Dense(4))\n",
    "        \n",
    "        model.compile(sgd(lr=lr, decay=1e-4, momentum=0.0), \"mse\")\n",
    "        self.model = model\n",
    "        "
   ]
  },
  {
   "cell_type": "code",
   "execution_count": 13,
   "metadata": {},
   "outputs": [
    {
     "name": "stdout",
     "output_type": "stream",
     "text": [
      "Epoch 000/020 | Loss 0.0028 | Win/lose count 4.5/7.0 (-2.5)\n",
      "Epoch 001/020 | Loss 0.0069 | Win/lose count 3.5/0 (3.5)\n",
      "Epoch 002/020 | Loss 0.0098 | Win/lose count 3.5/4.0 (-0.5)\n",
      "Epoch 003/020 | Loss 0.0169 | Win/lose count 5.0/3.0 (2.0)\n",
      "Epoch 004/020 | Loss 0.0105 | Win/lose count 1.0/6.0 (-5.0)\n",
      "Epoch 005/020 | Loss 0.0290 | Win/lose count 3.0/9.0 (-6.0)\n",
      "Epoch 006/020 | Loss 0.0087 | Win/lose count 6.0/5.0 (1.0)\n",
      "Epoch 007/020 | Loss 0.0066 | Win/lose count 4.0/4.0 (0.0)\n",
      "Epoch 008/020 | Loss 0.0153 | Win/lose count 2.5/2.0 (0.5)\n",
      "Epoch 009/020 | Loss 0.0485 | Win/lose count 9.5/7.0 (2.5)\n",
      "Epoch 010/020 | Loss 0.0519 | Win/lose count 3.5/1.0 (2.5)\n",
      "Epoch 011/020 | Loss 0.0134 | Win/lose count 5.0/2.0 (3.0)\n",
      "Epoch 012/020 | Loss 0.0180 | Win/lose count 8.0/5.0 (3.0)\n",
      "Epoch 013/020 | Loss 0.0678 | Win/lose count 4.5/3.0 (1.5)\n",
      "Epoch 014/020 | Loss 0.0077 | Win/lose count 4.5/5.0 (-0.5)\n",
      "Epoch 015/020 | Loss 0.0060 | Win/lose count 2.0/1.0 (1.0)\n",
      "Epoch 016/020 | Loss 0.0116 | Win/lose count 7.0/10.0 (-3.0)\n",
      "Epoch 017/020 | Loss 0.0262 | Win/lose count 6.0/5.0 (1.0)\n",
      "Epoch 018/020 | Loss 0.0057 | Win/lose count 7.5/5.0 (2.5)\n",
      "Epoch 019/020 | Loss 0.0751 | Win/lose count 6.5/1.0 (5.5)\n"
     ]
    },
    {
     "data": {
      "text/html": [
       "<video alt=\"test\" controls>\n",
       "                <source src=\"data:video/mp4;base64,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\" type=\"video/mp4\" />\n",
       "             </video>"
      ],
      "text/plain": [
       "<IPython.core.display.HTML object>"
      ]
     },
     "execution_count": 13,
     "metadata": {},
     "output_type": "execute_result"
    }
   ],
   "source": [
    "env = Environment(grid_size=size, max_time=T, temperature=0.3)\n",
    "agent = DQN_FC(size, lr=.1, epsilon = 0.1, memory_size=2000, batch_size = 32)\n",
    "train(agent, env, epochs_train, prefix='fc_train')\n",
    "HTML(display_videos('fc_train10.mp4'))"
   ]
  },
  {
   "cell_type": "markdown",
   "metadata": {},
   "source": [
    "***\n",
    "***\n",
    "__Question 8__ Implement the DQN training algorithm using a CNN (for example, 2 convolutional layers and one final fully connected layer)."
   ]
  },
  {
   "cell_type": "code",
   "execution_count": 14,
   "metadata": {},
   "outputs": [],
   "source": [
    "class DQN_CNN(DQN):\n",
    "    def __init__(self, *args,lr=0.1,**kwargs):\n",
    "        super(DQN_CNN, self).__init__(*args,**kwargs)\n",
    "        \n",
    "        model = Sequential()\n",
    "        model.add(Conv2D(32, 2, activation='relu', input_shape=(5,5,self.n_state)))\n",
    "        model.add(Conv2D(16, 2, activation='relu'))\n",
    "        model.add(Flatten())\n",
    "        model.add(Dense(4))\n",
    "    \n",
    "        model.compile(sgd(lr=lr, decay=1e-4, momentum=0.0), \"mse\")\n",
    "        self.model = model"
   ]
  },
  {
   "cell_type": "code",
   "execution_count": 15,
   "metadata": {},
   "outputs": [
    {
     "name": "stdout",
     "output_type": "stream",
     "text": [
      "Epoch 000/020 | Loss 0.0145 | Win/lose count 4.0/5.0 (-1.0)\n",
      "Epoch 001/020 | Loss 0.0690 | Win/lose count 5.5/2.0 (3.5)\n",
      "Epoch 002/020 | Loss 0.0155 | Win/lose count 6.5/10.0 (-3.5)\n",
      "Epoch 003/020 | Loss 0.0072 | Win/lose count 5.5/7.0 (-1.5)\n",
      "Epoch 004/020 | Loss 0.0032 | Win/lose count 7.5/6.0 (1.5)\n",
      "Epoch 005/020 | Loss 0.0714 | Win/lose count 2.5/7.0 (-4.5)\n",
      "Epoch 006/020 | Loss 0.0116 | Win/lose count 11.5/8.0 (3.5)\n",
      "Epoch 007/020 | Loss 0.0219 | Win/lose count 14.0/4.0 (10.0)\n",
      "Epoch 008/020 | Loss 0.0084 | Win/lose count 12.0/11.0 (1.0)\n",
      "Epoch 009/020 | Loss 0.0199 | Win/lose count 7.5/2.0 (5.5)\n",
      "Epoch 010/020 | Loss 0.0101 | Win/lose count 7.5/2.0 (5.5)\n",
      "Epoch 011/020 | Loss 0.0077 | Win/lose count 8.0/7.0 (1.0)\n",
      "Epoch 012/020 | Loss 0.0041 | Win/lose count 5.0/1.0 (4.0)\n",
      "Epoch 013/020 | Loss 0.0171 | Win/lose count 13.0/6.0 (7.0)\n",
      "Epoch 014/020 | Loss 0.0037 | Win/lose count 6.0/0 (6.0)\n",
      "Epoch 015/020 | Loss 0.0077 | Win/lose count 17.0/2.0 (15.0)\n",
      "Epoch 016/020 | Loss 0.0750 | Win/lose count 15.5/5.0 (10.5)\n",
      "Epoch 017/020 | Loss 0.0761 | Win/lose count 21.5/5.0 (16.5)\n",
      "Epoch 018/020 | Loss 0.0103 | Win/lose count 7.0/4.0 (3.0)\n",
      "Epoch 019/020 | Loss 0.0043 | Win/lose count 12.5/2.0 (10.5)\n"
     ]
    },
    {
     "data": {
      "text/html": [
       "<video alt=\"test\" controls>\n",
       "                <source src=\"data:video/mp4;base64,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\" type=\"video/mp4\" />\n",
       "             </video>"
      ],
      "text/plain": [
       "<IPython.core.display.HTML object>"
      ]
     },
     "execution_count": 15,
     "metadata": {},
     "output_type": "execute_result"
    }
   ],
   "source": [
    "env = Environment(grid_size=size, max_time=T, temperature=0.3)\n",
    "agent = DQN_CNN(size, lr=.1, epsilon = 0.1, memory_size=2000, batch_size = 32)\n",
    "train(agent,env,epochs_train,prefix='cnn_train')\n",
    "HTML(display_videos('cnn_train10.mp4'))"
   ]
  },
  {
   "cell_type": "markdown",
   "metadata": {},
   "source": [
    "***\n",
    "***\n",
    "__Question 9__ Test both algorithms and compare their performances. Which issue(s) do you observe? Observe also different behaviors by changing the temperature."
   ]
  },
  {
   "cell_type": "code",
   "execution_count": 16,
   "metadata": {},
   "outputs": [
    {
     "name": "stdout",
     "output_type": "stream",
     "text": [
      "Test of the CNN\n",
      "Win/lose count 1.5/0. Average score (1.5)\n",
      "Win/lose count 0/0. Average score (0.75)\n",
      "Win/lose count 0.5/0. Average score (0.6666666666666666)\n",
      "Win/lose count 4.0/0. Average score (1.5)\n",
      "Win/lose count 2.0/1.0. Average score (1.4)\n",
      "Win/lose count 4.0/0. Average score (1.8333333333333333)\n",
      "Win/lose count 0/0. Average score (1.5714285714285714)\n",
      "Win/lose count 2.0/0. Average score (1.625)\n",
      "Win/lose count 0.5/0. Average score (1.5)\n",
      "Win/lose count 2.5/1.0. Average score (1.5)\n",
      "Win/lose count 0.5/1.0. Average score (1.3181818181818181)\n",
      "Win/lose count 1.5/1.0. Average score (1.25)\n",
      "Win/lose count 0/0. Average score (1.1538461538461537)\n",
      "Win/lose count 2.0/0. Average score (1.2142857142857142)\n",
      "Win/lose count 2.0/0. Average score (1.2666666666666666)\n",
      "Win/lose count 1.5/0. Average score (1.28125)\n",
      "Win/lose count 3.0/0. Average score (1.3823529411764706)\n",
      "Win/lose count 7.0/2.0. Average score (1.5833333333333333)\n",
      "Win/lose count 0.5/0. Average score (1.5263157894736843)\n",
      "Win/lose count 1.5/0. Average score (1.525)\n",
      "Final score: 1.525\n",
      "Test of the FC\n",
      "Win/lose count 0.5/2.0. Average score (-1.5)\n",
      "Win/lose count 1.0/0. Average score (-0.25)\n",
      "Win/lose count 2.0/1.0. Average score (0.16666666666666666)\n",
      "Win/lose count 1.5/3.0. Average score (-0.25)\n",
      "Win/lose count 1.0/1.0. Average score (-0.2)\n",
      "Win/lose count 1.0/2.0. Average score (-0.3333333333333333)\n",
      "Win/lose count 0/0. Average score (-0.2857142857142857)\n",
      "Win/lose count 1.0/0. Average score (-0.125)\n",
      "Win/lose count 1.0/7.0. Average score (-0.7777777777777778)\n",
      "Win/lose count 2.5/1.0. Average score (-0.55)\n",
      "Win/lose count 1.0/2.0. Average score (-0.5909090909090909)\n",
      "Win/lose count 0/3.0. Average score (-0.7916666666666666)\n",
      "Win/lose count 1.0/1.0. Average score (-0.7307692307692307)\n",
      "Win/lose count 1.0/1.0. Average score (-0.6785714285714286)\n",
      "Win/lose count 1.5/0. Average score (-0.5333333333333333)\n",
      "Win/lose count 0.5/1.0. Average score (-0.53125)\n",
      "Win/lose count 2.5/2.0. Average score (-0.47058823529411764)\n",
      "Win/lose count 0.5/1.0. Average score (-0.4722222222222222)\n",
      "Win/lose count 1.5/0. Average score (-0.3684210526315789)\n",
      "Win/lose count 1.5/0. Average score (-0.275)\n",
      "Final score: -0.275\n"
     ]
    }
   ],
   "source": [
    "env = Environment(grid_size=size, max_time=T,temperature=0.3)\n",
    "agent_cnn = DQN_CNN(size, lr=.1, epsilon = 0.1, memory_size=2000, batch_size = 32)\n",
    "agent_cnn.load(name_weights='cnn_trainmodel.h5',name_model='cnn_trainmodel.json')\n",
    "\n",
    "agent_fc = DQN_FC(size, lr=.1, epsilon = 0.1, memory_size=2000, batch_size = 32)\n",
    "agent_cnn.load(name_weights='fc_trainmodel.h5',name_model='fc_trainmodel.json')\n",
    "print('Test of the CNN')\n",
    "test(agent_cnn,env,epochs_test,prefix='cnn_test')\n",
    "print('Test of the FC')\n",
    "test(agent_fc,env,epochs_test,prefix='fc_test')"
   ]
  },
  {
   "cell_type": "code",
   "execution_count": 17,
   "metadata": {},
   "outputs": [
    {
     "data": {
      "text/html": [
       "<video alt=\"test\" controls>\n",
       "                <source src=\"data:video/mp4;base64,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\" type=\"video/mp4\" />\n",
       "             </video>"
      ],
      "text/plain": [
       "<IPython.core.display.HTML object>"
      ]
     },
     "execution_count": 17,
     "metadata": {},
     "output_type": "execute_result"
    }
   ],
   "source": [
    "HTML(display_videos('cnn_test10.mp4'))"
   ]
  },
  {
   "cell_type": "code",
   "execution_count": 18,
   "metadata": {},
   "outputs": [
    {
     "data": {
      "text/html": [
       "<video alt=\"test\" controls>\n",
       "                <source src=\"data:video/mp4;base64,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\" type=\"video/mp4\" />\n",
       "             </video>"
      ],
      "text/plain": [
       "<IPython.core.display.HTML object>"
      ]
     },
     "execution_count": 18,
     "metadata": {},
     "output_type": "execute_result"
    }
   ],
   "source": [
    "HTML(display_videos('fc_test10.mp4'))"
   ]
  },
  {
   "cell_type": "markdown",
   "metadata": {},
   "source": [
    "Answer9) We observe that the agent doesn't explore other areas much and tends to stick to the current board i.e so low exploration rate. However the results given by the CNN are better than the ones given by the FC model.\n",
    "\n",
    "If we increase the temperature, both models perform better as there are more rewards on the grid (hence the agent is guided better). But we introduce some bias in the model as doing so increases the probability of having cheese and lowers the probility of poisonious cells"
   ]
  },
  {
   "cell_type": "markdown",
   "metadata": {},
   "source": [
    "***\n",
    "\n",
    "The algorithm tends to not explore the map which can be an issue. We propose two ideas in order to encourage exploration:\n",
    "1. Incorporating a decreasing $\\epsilon$-greedy exploration. You can use the method ```set_epsilon```\n",
    "2. Append via the environment a new state that describes if a cell has been visited or not\n",
    "\n",
    "***\n",
    "__Question 10__ Design a new ```train_explore``` function and environment class ```EnvironmentExploring``` to tackle the issue of exploration.\n",
    "\n"
   ]
  },
  {
   "cell_type": "code",
   "execution_count": 42,
   "metadata": {},
   "outputs": [],
   "source": [
    "def train_explore(agent,env,epoch,prefix=''):\n",
    "    # Number of won games\n",
    "    score = 0\n",
    "    loss = 0\n",
    "    epsilon_start = 1.0\n",
    "    epsilon_end = 0.1\n",
    "    \n",
    "    # The epsilon decay schedule\n",
    "    epsilons = np.linspace(epsilon_start, epsilon_end, epoch)\n",
    "\n",
    "    for e in range(epoch):\n",
    "        # At each epoch, we restart to a fresh game and get the initial state\n",
    "        state = env.reset()\n",
    "        # This assumes that the games will terminate\n",
    "        game_over = False\n",
    "        \n",
    "        agent.set_epsilon(epsilons[e])\n",
    "        \n",
    "        win = 0\n",
    "        lose = 0\n",
    "\n",
    "        while not game_over:\n",
    "            # The agent performs an action\n",
    "            action = agent.act(state)\n",
    "\n",
    "            # Apply an action to the environment, get the next state, the reward\n",
    "            # and if the games end\n",
    "            prev_state = state\n",
    "            state, reward, game_over = env.act(action, train=True)#we set train to true here\n",
    "\n",
    "            # Update the counters\n",
    "            if reward > 0:\n",
    "                win = win + reward\n",
    "            if reward < 0:\n",
    "                lose = lose - reward\n",
    "                \n",
    "            # Apply the reinforcement strategy\n",
    "            loss = agent.reinforce(prev_state, state,  action, reward, game_over)\n",
    "            \n",
    "        # Save as a mp4       \n",
    "        env.draw(prefix+str(e))\n",
    "\n",
    "        # Update stats\n",
    "        score += win-lose\n",
    "\n",
    "        print(\"Epoch {:03d}/{:03d} | Loss {:.4f} | Win/lose count {}/{} ({})\"\n",
    "              .format(e, epoch, loss, win, lose, win-lose))\n",
    "        agent.save(name_weights=prefix+'model.h5',name_model=prefix+'model.json')\n",
    "        \n",
    "    print('Final score: '+str(score/epoch))    \n",
    "                \n",
    "        \n",
    "class EnvironmentExploring(object):\n",
    "    def __init__(self, grid_size=10, max_time=500, temperature=0.1):\n",
    "        \n",
    "        #same as before\n",
    "        grid_size = grid_size+4\n",
    "        self.grid_size = grid_size\n",
    "        self.max_time = max_time\n",
    "        self.temperature = temperature\n",
    "\n",
    "        #board on which one plays\n",
    "        self.board = np.zeros((grid_size,grid_size))\n",
    "        self.position = np.zeros((grid_size,grid_size))\n",
    "        \n",
    "        #new argument\n",
    "        self.malus_position = np.zeros((grid_size,grid_size))\n",
    "        \n",
    "        #same as before\n",
    "        # coordinate of the cat\n",
    "        self.x = 0\n",
    "        self.y = 1\n",
    "\n",
    "        # self time\n",
    "        self.t = 0\n",
    "\n",
    "        self.scale=16\n",
    "\n",
    "        self.to_draw = np.zeros((max_time+2, grid_size*self.scale, grid_size*self.scale, 3))\n",
    "    \n",
    "    def get_t(self):\n",
    "        return self.t\n",
    "    \n",
    "    #same as earlier environment\n",
    "    def draw(self,e):\n",
    "        skvideo.io.vwrite(str(e) + '.mp4', self.to_draw)\n",
    "        \n",
    "    #same as earlier environment    \n",
    "    def get_frame(self,t):\n",
    "        b = np.zeros((self.grid_size,self.grid_size,3))+128\n",
    "        b[self.board>0,0] = 256\n",
    "        b[self.board < 0, 2] = 256\n",
    "        b[self.x,self.y,:]=256\n",
    "        b[-2:,:,:]=0\n",
    "        b[:,-2:,:]=0\n",
    "        b[:2,:,:]=0\n",
    "        b[:,:2,:]=0\n",
    "        \n",
    "        b =  cv2.resize(b, None, fx=self.scale, fy=self.scale, interpolation=cv2.INTER_NEAREST)\n",
    "\n",
    "        self.to_draw[t,:,:,:]=b\n",
    "    \n",
    "    #same act function as before for all the 4 possible actions\n",
    "    def act(self, action, train=False):\n",
    "        \"\"\"This function returns the new state, reward and decides if the\n",
    "        game ends.\"\"\"\n",
    "\n",
    "        self.get_frame(int(self.t))\n",
    "\n",
    "        self.position = np.zeros((self.grid_size, self.grid_size))\n",
    "\n",
    "        self.position[0:2,:]= -1\n",
    "        self.position[:,0:2] = -1\n",
    "        self.position[-2:, :] = -1\n",
    "        self.position[:, -2:] = -1\n",
    "\n",
    "        self.position[self.x, self.y] = 1\n",
    "        if action == 0:\n",
    "            if self.x == self.grid_size-3:\n",
    "                self.x = self.x-1\n",
    "            else:\n",
    "                self.x = self.x + 1\n",
    "        elif action == 1:\n",
    "            if self.x == 2:\n",
    "                self.x = self.x+1\n",
    "            else:\n",
    "                self.x = self.x-1\n",
    "        elif action == 2:\n",
    "            if self.y == self.grid_size - 3:\n",
    "                self.y = self.y - 1\n",
    "            else:\n",
    "                self.y = self.y + 1\n",
    "        elif action == 3:\n",
    "            if self.y == 2:\n",
    "                self.y = self.y + 1\n",
    "            else:\n",
    "                self.y = self.y - 1\n",
    "        else:\n",
    "            RuntimeError('Error: action not recognized')\n",
    "        self.t = self.t + 1     \n",
    "#You will have to change n_state to 3 because you will use one more layer!\n",
    "        reward = 0\n",
    "        if train:\n",
    "            reward = -self.malus_position[self.x, self.y]\n",
    "        self.malus_position[self.x, self.y] = 0.1\n",
    "        reward = reward + self.board[self.x, self.y]\n",
    "        \n",
    "        # 3 \"feature\" states instead of 2\n",
    "        self.board[self.x, self.y] = 0\n",
    "        game_over = self.t > self.max_time \n",
    "        state = np.concatenate((self.malus_position.reshape(self.grid_size, self.grid_size,1),\n",
    "                                self.board.reshape(self.grid_size, self.grid_size,1),\n",
    "                        self.position.reshape(self.grid_size, self.grid_size,1)),axis=2)\n",
    "        \n",
    "        state = state[self.x-2:self.x+3,self.y-2:self.y+3,:]\n",
    "        \n",
    "        return state, reward, game_over\n",
    "    \n",
    "    def reset(self):\n",
    "        \"\"\"This function resets the game and returns the initial state\"\"\"\n",
    "\n",
    "        self.x = np.random.randint(3, self.grid_size-3, size=1)[0]\n",
    "        self.y = np.random.randint(3, self.grid_size-3, size=1)[0]\n",
    "\n",
    "\n",
    "        bonus = 0.5*np.random.binomial(1,self.temperature,size=self.grid_size**2)\n",
    "        bonus = bonus.reshape(self.grid_size,self.grid_size)\n",
    "\n",
    "        malus = -1.0*np.random.binomial(1,self.temperature,size=self.grid_size**2)\n",
    "        malus = malus.reshape(self.grid_size, self.grid_size)\n",
    "\n",
    "        self.to_draw = np.zeros((self.max_time+2, self.grid_size*self.scale, self.grid_size*self.scale, 3))\n",
    "\n",
    "\n",
    "        malus[bonus>0]=0\n",
    "\n",
    "        self.board = bonus + malus\n",
    "        \n",
    "        self.position = np.zeros((self.grid_size, self.grid_size))\n",
    "        self.position[0:2,:]= -1\n",
    "        self.position[:,0:2] = -1\n",
    "        self.position[-2:, :] = -1\n",
    "        self.position[:, -2:] = -1\n",
    "        self.board[self.x,self.y] = 0\n",
    "       \n",
    "        self.malus_position[self.x, self.y] = 0\n",
    "\n",
    "        self.t = 0\n",
    "\n",
    "        state = np.concatenate((self.malus_position.reshape(self.grid_size, self.grid_size,1),\n",
    "                                self.board.reshape(self.grid_size, self.grid_size,1),\n",
    "                                self.position.reshape(self.grid_size, self.grid_size,1)),axis=2)\n",
    "\n",
    "        state = state[self.x - 2:self.x + 3, self.y - 2:self.y + 3, :]\n",
    "        \n",
    "        return state\n",
    "    \n",
    "    \n",
    "    \n",
    "    \n",
    "    \n",
    "    \n",
    "    \n",
    "    \n",
    "    \n",
    "        \n",
    "        \n",
    "        "
   ]
  },
  {
   "cell_type": "code",
   "execution_count": 43,
   "metadata": {},
   "outputs": [
    {
     "name": "stdout",
     "output_type": "stream",
     "text": [
      "Epoch 000/020 | Loss 0.0341 | Win/lose count 8.5/28.300000000000004 (-19.800000000000004)\n",
      "Epoch 001/020 | Loss 0.0189 | Win/lose count 5.200000000000001/32.80000000000013 (-27.60000000000013)\n",
      "Epoch 002/020 | Loss 0.0133 | Win/lose count 4.5/27.000000000000085 (-22.500000000000085)\n",
      "Epoch 003/020 | Loss 0.0141 | Win/lose count 8.000000000000002/32.60000000000013 (-24.60000000000013)\n",
      "Epoch 004/020 | Loss 0.0218 | Win/lose count 11.000000000000005/27.100000000000023 (-16.100000000000016)\n",
      "Epoch 005/020 | Loss 0.0107 | Win/lose count 15.200000000000005/25.700000000000053 (-10.500000000000048)\n",
      "Epoch 006/020 | Loss 0.0340 | Win/lose count 10.000000000000004/26.30000000000008 (-16.300000000000075)\n",
      "Epoch 007/020 | Loss 0.0232 | Win/lose count 12.000000000000005/33.800000000000054 (-21.800000000000047)\n",
      "Epoch 008/020 | Loss 0.0132 | Win/lose count 12.000000000000005/27.900000000000084 (-15.900000000000079)\n",
      "Epoch 009/020 | Loss 0.0228 | Win/lose count 13.600000000000007/27.600000000000076 (-14.00000000000007)\n",
      "Epoch 010/020 | Loss 0.0086 | Win/lose count 8.200000000000003/26.00000000000007 (-17.800000000000068)\n",
      "Epoch 011/020 | Loss 0.0215 | Win/lose count 9.300000000000002/21.700000000000028 (-12.400000000000025)\n",
      "Epoch 012/020 | Loss 0.0190 | Win/lose count 12.400000000000006/25.900000000000055 (-13.50000000000005)\n",
      "Epoch 013/020 | Loss 0.0186 | Win/lose count 9.600000000000003/23.600000000000055 (-14.000000000000052)\n",
      "Epoch 014/020 | Loss 0.0168 | Win/lose count 16.800000000000004/20.900000000000045 (-4.1000000000000405)\n",
      "Epoch 015/020 | Loss 0.0235 | Win/lose count 1.2000000000000002/22.80000000000006 (-21.600000000000062)\n",
      "Epoch 016/020 | Loss 0.0146 | Win/lose count 6.900000000000002/29.30000000000013 (-22.400000000000126)\n",
      "Epoch 017/020 | Loss 0.0152 | Win/lose count 3.1999999999999997/23.200000000000053 (-20.000000000000053)\n",
      "Epoch 018/020 | Loss 0.0185 | Win/lose count 9.600000000000003/23.700000000000067 (-14.100000000000064)\n",
      "Epoch 019/020 | Loss 0.0213 | Win/lose count 16.900000000000006/18.89999999999999 (-1.9999999999999858)\n",
      "Final score: -16.550000000000065\n"
     ]
    },
    {
     "data": {
      "text/html": [
       "<video alt=\"test\" controls>\n",
       "                <source src=\"data:video/mp4;base64,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\" type=\"video/mp4\" />\n",
       "             </video>"
      ],
      "text/plain": [
       "<IPython.core.display.HTML object>"
      ]
     },
     "execution_count": 43,
     "metadata": {},
     "output_type": "execute_result"
    }
   ],
   "source": [
    "# Training\n",
    "env = EnvironmentExploring(grid_size=size, max_time=T, temperature=0.3)\n",
    "agent = DQN_CNN(size, lr=.1, epsilon = 0.1, memory_size=2000, batch_size = 32,n_state=3)\n",
    "train_explore(agent, env, epochs_train, prefix='cnn_train_explore')\n",
    "HTML(display_videos('cnn_train_explore10.mp4'))"
   ]
  },
  {
   "cell_type": "code",
   "execution_count": 44,
   "metadata": {},
   "outputs": [
    {
     "name": "stdout",
     "output_type": "stream",
     "text": [
      "Win/lose count 1.5/0. Average score (1.5)\n",
      "Win/lose count 8.0/0. Average score (4.75)\n",
      "Win/lose count 4.0/1.0. Average score (4.166666666666667)\n",
      "Win/lose count 4.5/0. Average score (4.25)\n",
      "Win/lose count 8.0/0. Average score (5.0)\n",
      "Win/lose count 0.5/0. Average score (4.25)\n",
      "Win/lose count 3.0/1.0. Average score (3.9285714285714284)\n",
      "Win/lose count 4.5/1.0. Average score (3.875)\n",
      "Win/lose count 4.0/0. Average score (3.888888888888889)\n",
      "Win/lose count 10.0/0. Average score (4.5)\n",
      "Win/lose count 3.5/1.0. Average score (4.318181818181818)\n",
      "Win/lose count 9.5/0. Average score (4.75)\n",
      "Win/lose count 2.0/0. Average score (4.538461538461538)\n",
      "Win/lose count 16.5/0. Average score (5.392857142857143)\n",
      "Win/lose count 4.5/0. Average score (5.333333333333333)\n",
      "Win/lose count 5.0/1.0. Average score (5.25)\n",
      "Win/lose count 11.0/0. Average score (5.588235294117647)\n",
      "Win/lose count 11.0/1.0. Average score (5.833333333333333)\n",
      "Win/lose count 13.5/0. Average score (6.2368421052631575)\n",
      "Win/lose count 7.0/0. Average score (6.275)\n",
      "Final score: 6.275\n"
     ]
    },
    {
     "data": {
      "text/html": [
       "<video alt=\"test\" controls>\n",
       "                <source src=\"data:video/mp4;base64,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\" type=\"video/mp4\" />\n",
       "             </video>"
      ],
      "text/plain": [
       "<IPython.core.display.HTML object>"
      ]
     },
     "execution_count": 44,
     "metadata": {},
     "output_type": "execute_result"
    }
   ],
   "source": [
    "# Evaluation\n",
    "test(agent,env,epochs_test,prefix='cnn_test_explore')\n",
    "HTML(display_videos('cnn_test_explore10.mp4'))"
   ]
  },
  {
   "cell_type": "markdown",
   "metadata": {},
   "source": [
    "***\n",
    "***\n",
    "__BONUS question__ Use the expert DQN from the previous question to generate some winning games. Train a model that mimicks its behavior. Compare the performances."
   ]
  },
  {
   "cell_type": "markdown",
   "metadata": {},
   "source": []
  },
  {
   "cell_type": "markdown",
   "metadata": {},
   "source": [
    "***"
   ]
  }
 ],
 "metadata": {
  "kernelspec": {
   "display_name": "Python 3",
   "language": "python",
   "name": "python3"
  },
  "language_info": {
   "codemirror_mode": {
    "name": "ipython",
    "version": 3
   },
   "file_extension": ".py",
   "mimetype": "text/x-python",
   "name": "python",
   "nbconvert_exporter": "python",
   "pygments_lexer": "ipython3",
   "version": "3.6.5"
  }
 },
 "nbformat": 4,
 "nbformat_minor": 2
}
